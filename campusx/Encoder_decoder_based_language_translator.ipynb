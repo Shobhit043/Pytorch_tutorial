{
  "cells": [
    {
      "cell_type": "code",
      "execution_count": 1,
      "metadata": {
        "id": "5lr-hiz7BG0d"
      },
      "outputs": [],
      "source": [
        "import numpy as np\n",
        "import matplotlib.pyplot as plt\n",
        "import tensorflow\n",
        "from tensorflow import keras\n",
        "from keras import Model\n",
        "from keras.layers import Input, LSTM, Dense"
      ]
    },
    {
      "cell_type": "code",
      "execution_count": 2,
      "metadata": {
        "id": "ds2k_y-n5Hq2"
      },
      "outputs": [],
      "source": [
        "num_samples = 10000\n",
        "latent_dim = 256 # size of hidden_state and cell_state of RNN\n",
        "batch_size = 64\n",
        "epochs = 100"
      ]
    },
    {
      "cell_type": "code",
      "execution_count": null,
      "metadata": {
        "id": "aRwmPezNUYlR"
      },
      "outputs": [],
      "source": [
        "input_txt_list = []\n",
        "target_txt_list = []\n",
        "input_char_list = set()\n",
        "target_char_list = set(['\\t','\\n']) # /t and /n are start and end character\n",
        "\n",
        "with open('/content/fra.txt', 'r', encoding = 'utf-8') as f:\n",
        "  lines = f.read().split('\\n')\n",
        "  for line in lines[:min(num_samples, len(lines) - 1)]:\n",
        "    input_txt, target_txt, _ = line.split('\\t')\n",
        "\n",
        "    input_txt_list.append(input_txt)\n",
        "    for ch in input_txt:\n",
        "      if ch not in input_char_list:\n",
        "        input_char_list.add(ch)\n",
        "\n",
        "    target_txt_list.append('\\t'+target_txt+'\\n')\n",
        "    for ch in target_txt:\n",
        "      if ch not in target_char_list:\n",
        "        target_char_list.add(ch)"
      ]
    },
    {
      "cell_type": "code",
      "execution_count": 4,
      "metadata": {
        "colab": {
          "base_uri": "https://localhost:8080/"
        },
        "id": "AGJJ8PqZEgZx",
        "outputId": "10f136ef-2eba-4f3a-ebe5-1401fbaed2fd"
      },
      "outputs": [
        {
          "data": {
            "text/plain": [
              "['Go.', 'Go.', 'Go.', 'Go.', 'Hi.', 'Hi.', 'Run!', 'Run!', 'Run!', 'Run!']"
            ]
          },
          "execution_count": 4,
          "metadata": {},
          "output_type": "execute_result"
        }
      ],
      "source": [
        "input_txt_list[:10]"
      ]
    },
    {
      "cell_type": "code",
      "execution_count": 5,
      "metadata": {
        "colab": {
          "base_uri": "https://localhost:8080/"
        },
        "id": "vQkoO_60EjLB",
        "outputId": "9f3a620a-3182-45bf-d291-34b67b9e61b9"
      },
      "outputs": [
        {
          "data": {
            "text/plain": [
              "['\\tVa !\\n',\n",
              " '\\tMarche.\\n',\n",
              " '\\tEn route !\\n',\n",
              " '\\tBouge !\\n',\n",
              " '\\tSalut !\\n',\n",
              " '\\tSalut.\\n',\n",
              " '\\tCours\\u202f!\\n',\n",
              " '\\tCourez\\u202f!\\n',\n",
              " '\\tPrenez vos jambes à vos cous !\\n',\n",
              " '\\tFile !\\n']"
            ]
          },
          "execution_count": 5,
          "metadata": {},
          "output_type": "execute_result"
        }
      ],
      "source": [
        "target_txt_list[:10]"
      ]
    },
    {
      "cell_type": "code",
      "execution_count": 6,
      "metadata": {
        "id": "LrnGuog4Zicw"
      },
      "outputs": [],
      "source": [
        "input_char_dict = {}\n",
        "for ch in input_char_list:\n",
        "  input_char_dict[ch] = len(input_char_dict)\n",
        "\n",
        "target_char_dict = {}\n",
        "for ch in target_char_list:\n",
        "  target_char_dict[ch] = len(target_char_dict)\n",
        "\n",
        "# Used during translation\n",
        "reversed_target_char_dict = dict(zip(target_char_dict.values(), target_char_dict.keys()))"
      ]
    },
    {
      "cell_type": "code",
      "execution_count": 7,
      "metadata": {
        "id": "Pj-urQzmBzP5"
      },
      "outputs": [],
      "source": [
        "max_input_sentence_length = max([ len(sentence) for sentence in input_txt_list ])\n",
        "max_target_sentence_length = max([ len(sentence) for sentence in target_txt_list ])\n",
        "num_input_characters = len(input_char_list)\n",
        "num_target_characters = len(target_char_list)\n",
        "num_pairs = len(input_txt_list)"
      ]
    },
    {
      "cell_type": "code",
      "execution_count": 8,
      "metadata": {
        "colab": {
          "base_uri": "https://localhost:8080/"
        },
        "id": "pwbEEoWeFDgZ",
        "outputId": "16c6c7d5-b766-4e30-e35c-27eaa91752fd"
      },
      "outputs": [
        {
          "name": "stdout",
          "output_type": "stream",
          "text": [
            "max_input_sentence_length =  14\n",
            "max_target_sentence_length =  59\n",
            "num_input_characters =  70\n",
            "num_target_characters =  91\n",
            "num_pairs =  10000\n"
          ]
        }
      ],
      "source": [
        "print(\"max_input_sentence_length = \", max_input_sentence_length)\n",
        "print(\"max_target_sentence_length = \", max_target_sentence_length)\n",
        "print(\"num_input_characters = \", num_input_characters)\n",
        "print(\"num_target_characters = \", num_target_characters)\n",
        "print(\"num_pairs = \", num_pairs)"
      ]
    },
    {
      "cell_type": "code",
      "execution_count": 9,
      "metadata": {
        "id": "ek7AzAcxItoq"
      },
      "outputs": [],
      "source": [
        "encoder_input_data = np.zeros(shape = (num_pairs, max_input_sentence_length, num_input_characters))\n",
        "decoder_input_data = np.zeros(shape = (num_pairs, max_target_sentence_length, num_target_characters))\n",
        "decoder_target_data = np.zeros(shape = (num_pairs, max_target_sentence_length, num_target_characters))"
      ]
    },
    {
      "cell_type": "code",
      "execution_count": 10,
      "metadata": {
        "id": "WrhVyVwBL0A5"
      },
      "outputs": [],
      "source": [
        "for i,(input_txt, target_txt) in enumerate(zip(input_txt_list, target_txt_list)):\n",
        "  for t, ch in enumerate(input_txt):\n",
        "    encoder_input_data[i, t, input_char_dict[ch]] = 1\n",
        "  encoder_input_data[i, t+1:, input_char_dict[' ']] = 1\n",
        "\n",
        "  for t, ch in enumerate(target_txt):\n",
        "    decoder_input_data[i, t, target_char_dict[ch]] = 1\n",
        "    if(t>0):\n",
        "      decoder_target_data[i, t-1, target_char_dict[ch]] = 1 # will leave the first character that is start symbol\n",
        "  decoder_input_data[i, t+1:, target_char_dict[' ']] = 1\n",
        "  decoder_target_data[i, t:, target_char_dict[' ']] = 1"
      ]
    },
    {
      "cell_type": "code",
      "execution_count": 11,
      "metadata": {
        "id": "KfJzJ9K_y-Uy"
      },
      "outputs": [],
      "source": [
        "num_encoder_token = num_input_characters\n",
        "num_decoder_token = num_target_characters"
      ]
    },
    {
      "cell_type": "code",
      "execution_count": 12,
      "metadata": {
        "id": "4RK74gO0zLGx"
      },
      "outputs": [],
      "source": [
        "encoder_input = Input(shape = (None, num_encoder_token))\n",
        "# return_state=True means it woult return hidden state and cell state along with final output\n",
        "encoder = LSTM(latent_dim, return_state = True)\n",
        "\n",
        "# state_h and state_c are final hidden and cell state of encoder\n",
        "encoder_output, state_h, state_c = encoder(encoder_input)\n",
        "encoder_final_state = [state_h, state_c]\n",
        "\n",
        "decoder_input = Input(shape = (None, num_decoder_token))\n",
        "# return_sequences=True means it would return all timestamps outputs\n",
        "decoder = LSTM(latent_dim, return_sequences=True, return_state = True)\n",
        "decoder_output, _ , _  = decoder(decoder_input, initial_state = encoder_final_state)\n",
        "decoder_dense = Dense(num_decoder_token, 'softmax')\n",
        "decoder_output = decoder_dense(decoder_output)\n",
        "\n",
        "model = Model([encoder_input,decoder_input], decoder_output)"
      ]
    },
    {
      "cell_type": "code",
      "execution_count": 13,
      "metadata": {
        "id": "mBBn9N_hzLDJ"
      },
      "outputs": [],
      "source": [
        "model.compile(optimizer='adam', loss='categorical_crossentropy', metrics=['acc'])"
      ]
    },
    {
      "cell_type": "code",
      "execution_count": 14,
      "metadata": {
        "colab": {
          "base_uri": "https://localhost:8080/"
        },
        "id": "J6r4O6JczLAJ",
        "outputId": "33cef6a0-1498-48b9-8d3e-c5bc9235ff61"
      },
      "outputs": [
        {
          "name": "stdout",
          "output_type": "stream",
          "text": [
            "Epoch 1/100\n",
            "\u001b[1m125/125\u001b[0m \u001b[32m━━━━━━━━━━━━━━━━━━━━\u001b[0m\u001b[37m\u001b[0m \u001b[1m5s\u001b[0m 18ms/step - acc: 0.7049 - loss: 1.8965 - val_acc: 0.7006 - val_loss: 1.1344\n",
            "Epoch 2/100\n",
            "\u001b[1m125/125\u001b[0m \u001b[32m━━━━━━━━━━━━━━━━━━━━\u001b[0m\u001b[37m\u001b[0m \u001b[1m2s\u001b[0m 13ms/step - acc: 0.7419 - loss: 0.9740 - val_acc: 0.7298 - val_loss: 0.9526\n",
            "Epoch 3/100\n",
            "\u001b[1m125/125\u001b[0m \u001b[32m━━━━━━━━━━━━━━━━━━━━\u001b[0m\u001b[37m\u001b[0m \u001b[1m3s\u001b[0m 14ms/step - acc: 0.7714 - loss: 0.8341 - val_acc: 0.7677 - val_loss: 0.8489\n",
            "Epoch 4/100\n",
            "\u001b[1m125/125\u001b[0m \u001b[32m━━━━━━━━━━━━━━━━━━━━\u001b[0m\u001b[37m\u001b[0m \u001b[1m2s\u001b[0m 12ms/step - acc: 0.8005 - loss: 0.7387 - val_acc: 0.7919 - val_loss: 0.7446\n",
            "Epoch 5/100\n",
            "\u001b[1m125/125\u001b[0m \u001b[32m━━━━━━━━━━━━━━━━━━━━\u001b[0m\u001b[37m\u001b[0m \u001b[1m2s\u001b[0m 12ms/step - acc: 0.8164 - loss: 0.6727 - val_acc: 0.7992 - val_loss: 0.7155\n",
            "Epoch 6/100\n",
            "\u001b[1m125/125\u001b[0m \u001b[32m━━━━━━━━━━━━━━━━━━━━\u001b[0m\u001b[37m\u001b[0m \u001b[1m2s\u001b[0m 12ms/step - acc: 0.8224 - loss: 0.6230 - val_acc: 0.8089 - val_loss: 0.6640\n",
            "Epoch 7/100\n",
            "\u001b[1m125/125\u001b[0m \u001b[32m━━━━━━━━━━━━━━━━━━━━\u001b[0m\u001b[37m\u001b[0m \u001b[1m3s\u001b[0m 13ms/step - acc: 0.8328 - loss: 0.5795 - val_acc: 0.8164 - val_loss: 0.6335\n",
            "Epoch 8/100\n",
            "\u001b[1m125/125\u001b[0m \u001b[32m━━━━━━━━━━━━━━━━━━━━\u001b[0m\u001b[37m\u001b[0m \u001b[1m3s\u001b[0m 13ms/step - acc: 0.8409 - loss: 0.5487 - val_acc: 0.8219 - val_loss: 0.6118\n",
            "Epoch 9/100\n",
            "\u001b[1m125/125\u001b[0m \u001b[32m━━━━━━━━━━━━━━━━━━━━\u001b[0m\u001b[37m\u001b[0m \u001b[1m2s\u001b[0m 15ms/step - acc: 0.8453 - loss: 0.5298 - val_acc: 0.8251 - val_loss: 0.5986\n",
            "Epoch 10/100\n",
            "\u001b[1m125/125\u001b[0m \u001b[32m━━━━━━━━━━━━━━━━━━━━\u001b[0m\u001b[37m\u001b[0m \u001b[1m2s\u001b[0m 13ms/step - acc: 0.8530 - loss: 0.5041 - val_acc: 0.8308 - val_loss: 0.5820\n",
            "Epoch 11/100\n",
            "\u001b[1m125/125\u001b[0m \u001b[32m━━━━━━━━━━━━━━━━━━━━\u001b[0m\u001b[37m\u001b[0m \u001b[1m2s\u001b[0m 13ms/step - acc: 0.8577 - loss: 0.4870 - val_acc: 0.8327 - val_loss: 0.5670\n",
            "Epoch 12/100\n",
            "\u001b[1m125/125\u001b[0m \u001b[32m━━━━━━━━━━━━━━━━━━━━\u001b[0m\u001b[37m\u001b[0m \u001b[1m2s\u001b[0m 12ms/step - acc: 0.8607 - loss: 0.4748 - val_acc: 0.8382 - val_loss: 0.5525\n",
            "Epoch 13/100\n",
            "\u001b[1m125/125\u001b[0m \u001b[32m━━━━━━━━━━━━━━━━━━━━\u001b[0m\u001b[37m\u001b[0m \u001b[1m3s\u001b[0m 13ms/step - acc: 0.8635 - loss: 0.4631 - val_acc: 0.8413 - val_loss: 0.5416\n",
            "Epoch 14/100\n",
            "\u001b[1m125/125\u001b[0m \u001b[32m━━━━━━━━━━━━━━━━━━━━\u001b[0m\u001b[37m\u001b[0m \u001b[1m3s\u001b[0m 13ms/step - acc: 0.8667 - loss: 0.4522 - val_acc: 0.8439 - val_loss: 0.5311\n",
            "Epoch 15/100\n",
            "\u001b[1m125/125\u001b[0m \u001b[32m━━━━━━━━━━━━━━━━━━━━\u001b[0m\u001b[37m\u001b[0m \u001b[1m3s\u001b[0m 15ms/step - acc: 0.8693 - loss: 0.4419 - val_acc: 0.8462 - val_loss: 0.5244\n",
            "Epoch 16/100\n",
            "\u001b[1m125/125\u001b[0m \u001b[32m━━━━━━━━━━━━━━━━━━━━\u001b[0m\u001b[37m\u001b[0m \u001b[1m2s\u001b[0m 13ms/step - acc: 0.8731 - loss: 0.4308 - val_acc: 0.8470 - val_loss: 0.5197\n",
            "Epoch 17/100\n",
            "\u001b[1m125/125\u001b[0m \u001b[32m━━━━━━━━━━━━━━━━━━━━\u001b[0m\u001b[37m\u001b[0m \u001b[1m2s\u001b[0m 12ms/step - acc: 0.8748 - loss: 0.4215 - val_acc: 0.8505 - val_loss: 0.5069\n",
            "Epoch 18/100\n",
            "\u001b[1m125/125\u001b[0m \u001b[32m━━━━━━━━━━━━━━━━━━━━\u001b[0m\u001b[37m\u001b[0m \u001b[1m2s\u001b[0m 13ms/step - acc: 0.8785 - loss: 0.4094 - val_acc: 0.8540 - val_loss: 0.4986\n",
            "Epoch 19/100\n",
            "\u001b[1m125/125\u001b[0m \u001b[32m━━━━━━━━━━━━━━━━━━━━\u001b[0m\u001b[37m\u001b[0m \u001b[1m2s\u001b[0m 12ms/step - acc: 0.8806 - loss: 0.4036 - val_acc: 0.8541 - val_loss: 0.4946\n",
            "Epoch 20/100\n",
            "\u001b[1m125/125\u001b[0m \u001b[32m━━━━━━━━━━━━━━━━━━━━\u001b[0m\u001b[37m\u001b[0m \u001b[1m3s\u001b[0m 13ms/step - acc: 0.8829 - loss: 0.3933 - val_acc: 0.8556 - val_loss: 0.4879\n",
            "Epoch 21/100\n",
            "\u001b[1m125/125\u001b[0m \u001b[32m━━━━━━━━━━━━━━━━━━━━\u001b[0m\u001b[37m\u001b[0m \u001b[1m3s\u001b[0m 14ms/step - acc: 0.8862 - loss: 0.3823 - val_acc: 0.8575 - val_loss: 0.4819\n",
            "Epoch 22/100\n",
            "\u001b[1m125/125\u001b[0m \u001b[32m━━━━━━━━━━━━━━━━━━━━\u001b[0m\u001b[37m\u001b[0m \u001b[1m2s\u001b[0m 12ms/step - acc: 0.8878 - loss: 0.3740 - val_acc: 0.8598 - val_loss: 0.4752\n",
            "Epoch 23/100\n",
            "\u001b[1m125/125\u001b[0m \u001b[32m━━━━━━━━━━━━━━━━━━━━\u001b[0m\u001b[37m\u001b[0m \u001b[1m3s\u001b[0m 13ms/step - acc: 0.8911 - loss: 0.3643 - val_acc: 0.8606 - val_loss: 0.4700\n",
            "Epoch 24/100\n",
            "\u001b[1m125/125\u001b[0m \u001b[32m━━━━━━━━━━━━━━━━━━━━\u001b[0m\u001b[37m\u001b[0m \u001b[1m2s\u001b[0m 13ms/step - acc: 0.8944 - loss: 0.3536 - val_acc: 0.8619 - val_loss: 0.4675\n",
            "Epoch 25/100\n",
            "\u001b[1m125/125\u001b[0m \u001b[32m━━━━━━━━━━━━━━━━━━━━\u001b[0m\u001b[37m\u001b[0m \u001b[1m2s\u001b[0m 12ms/step - acc: 0.8949 - loss: 0.3506 - val_acc: 0.8618 - val_loss: 0.4660\n",
            "Epoch 26/100\n",
            "\u001b[1m125/125\u001b[0m \u001b[32m━━━━━━━━━━━━━━━━━━━━\u001b[0m\u001b[37m\u001b[0m \u001b[1m2s\u001b[0m 15ms/step - acc: 0.8983 - loss: 0.3405 - val_acc: 0.8640 - val_loss: 0.4606\n",
            "Epoch 27/100\n",
            "\u001b[1m125/125\u001b[0m \u001b[32m━━━━━━━━━━━━━━━━━━━━\u001b[0m\u001b[37m\u001b[0m \u001b[1m2s\u001b[0m 12ms/step - acc: 0.9013 - loss: 0.3286 - val_acc: 0.8661 - val_loss: 0.4525\n",
            "Epoch 28/100\n",
            "\u001b[1m125/125\u001b[0m \u001b[32m━━━━━━━━━━━━━━━━━━━━\u001b[0m\u001b[37m\u001b[0m \u001b[1m3s\u001b[0m 13ms/step - acc: 0.9029 - loss: 0.3227 - val_acc: 0.8674 - val_loss: 0.4505\n",
            "Epoch 29/100\n",
            "\u001b[1m125/125\u001b[0m \u001b[32m━━━━━━━━━━━━━━━━━━━━\u001b[0m\u001b[37m\u001b[0m \u001b[1m2s\u001b[0m 12ms/step - acc: 0.9047 - loss: 0.3183 - val_acc: 0.8682 - val_loss: 0.4499\n",
            "Epoch 30/100\n",
            "\u001b[1m125/125\u001b[0m \u001b[32m━━━━━━━━━━━━━━━━━━━━\u001b[0m\u001b[37m\u001b[0m \u001b[1m3s\u001b[0m 17ms/step - acc: 0.9073 - loss: 0.3090 - val_acc: 0.8682 - val_loss: 0.4483\n",
            "Epoch 31/100\n",
            "\u001b[1m125/125\u001b[0m \u001b[32m━━━━━━━━━━━━━━━━━━━━\u001b[0m\u001b[37m\u001b[0m \u001b[1m2s\u001b[0m 14ms/step - acc: 0.9096 - loss: 0.3011 - val_acc: 0.8693 - val_loss: 0.4455\n",
            "Epoch 32/100\n",
            "\u001b[1m125/125\u001b[0m \u001b[32m━━━━━━━━━━━━━━━━━━━━\u001b[0m\u001b[37m\u001b[0m \u001b[1m2s\u001b[0m 12ms/step - acc: 0.9127 - loss: 0.2919 - val_acc: 0.8709 - val_loss: 0.4420\n",
            "Epoch 33/100\n",
            "\u001b[1m125/125\u001b[0m \u001b[32m━━━━━━━━━━━━━━━━━━━━\u001b[0m\u001b[37m\u001b[0m \u001b[1m3s\u001b[0m 12ms/step - acc: 0.9147 - loss: 0.2849 - val_acc: 0.8710 - val_loss: 0.4414\n",
            "Epoch 34/100\n",
            "\u001b[1m125/125\u001b[0m \u001b[32m━━━━━━━━━━━━━━━━━━━━\u001b[0m\u001b[37m\u001b[0m \u001b[1m2s\u001b[0m 12ms/step - acc: 0.9157 - loss: 0.2793 - val_acc: 0.8719 - val_loss: 0.4399\n",
            "Epoch 35/100\n",
            "\u001b[1m125/125\u001b[0m \u001b[32m━━━━━━━━━━━━━━━━━━━━\u001b[0m\u001b[37m\u001b[0m \u001b[1m2s\u001b[0m 12ms/step - acc: 0.9171 - loss: 0.2739 - val_acc: 0.8730 - val_loss: 0.4391\n",
            "Epoch 36/100\n",
            "\u001b[1m125/125\u001b[0m \u001b[32m━━━━━━━━━━━━━━━━━━━━\u001b[0m\u001b[37m\u001b[0m \u001b[1m2s\u001b[0m 13ms/step - acc: 0.9211 - loss: 0.2649 - val_acc: 0.8735 - val_loss: 0.4379\n",
            "Epoch 37/100\n",
            "\u001b[1m125/125\u001b[0m \u001b[32m━━━━━━━━━━━━━━━━━━━━\u001b[0m\u001b[37m\u001b[0m \u001b[1m2s\u001b[0m 13ms/step - acc: 0.9210 - loss: 0.2601 - val_acc: 0.8743 - val_loss: 0.4365\n",
            "Epoch 38/100\n",
            "\u001b[1m125/125\u001b[0m \u001b[32m━━━━━━━━━━━━━━━━━━━━\u001b[0m\u001b[37m\u001b[0m \u001b[1m3s\u001b[0m 14ms/step - acc: 0.9231 - loss: 0.2534 - val_acc: 0.8744 - val_loss: 0.4375\n",
            "Epoch 39/100\n",
            "\u001b[1m125/125\u001b[0m \u001b[32m━━━━━━━━━━━━━━━━━━━━\u001b[0m\u001b[37m\u001b[0m \u001b[1m2s\u001b[0m 13ms/step - acc: 0.9267 - loss: 0.2447 - val_acc: 0.8754 - val_loss: 0.4391\n",
            "Epoch 40/100\n",
            "\u001b[1m125/125\u001b[0m \u001b[32m━━━━━━━━━━━━━━━━━━━━\u001b[0m\u001b[37m\u001b[0m \u001b[1m3s\u001b[0m 13ms/step - acc: 0.9285 - loss: 0.2380 - val_acc: 0.8765 - val_loss: 0.4358\n",
            "Epoch 41/100\n",
            "\u001b[1m125/125\u001b[0m \u001b[32m━━━━━━━━━━━━━━━━━━━━\u001b[0m\u001b[37m\u001b[0m \u001b[1m2s\u001b[0m 12ms/step - acc: 0.9293 - loss: 0.2341 - val_acc: 0.8757 - val_loss: 0.4400\n",
            "Epoch 42/100\n",
            "\u001b[1m125/125\u001b[0m \u001b[32m━━━━━━━━━━━━━━━━━━━━\u001b[0m\u001b[37m\u001b[0m \u001b[1m2s\u001b[0m 13ms/step - acc: 0.9322 - loss: 0.2260 - val_acc: 0.8767 - val_loss: 0.4385\n",
            "Epoch 43/100\n",
            "\u001b[1m125/125\u001b[0m \u001b[32m━━━━━━━━━━━━━━━━━━━━\u001b[0m\u001b[37m\u001b[0m \u001b[1m3s\u001b[0m 14ms/step - acc: 0.9332 - loss: 0.2206 - val_acc: 0.8771 - val_loss: 0.4394\n",
            "Epoch 44/100\n",
            "\u001b[1m125/125\u001b[0m \u001b[32m━━━━━━━━━━━━━━━━━━━━\u001b[0m\u001b[37m\u001b[0m \u001b[1m2s\u001b[0m 12ms/step - acc: 0.9355 - loss: 0.2139 - val_acc: 0.8758 - val_loss: 0.4440\n",
            "Epoch 45/100\n",
            "\u001b[1m125/125\u001b[0m \u001b[32m━━━━━━━━━━━━━━━━━━━━\u001b[0m\u001b[37m\u001b[0m \u001b[1m2s\u001b[0m 13ms/step - acc: 0.9368 - loss: 0.2091 - val_acc: 0.8760 - val_loss: 0.4455\n",
            "Epoch 46/100\n",
            "\u001b[1m125/125\u001b[0m \u001b[32m━━━━━━━━━━━━━━━━━━━━\u001b[0m\u001b[37m\u001b[0m \u001b[1m3s\u001b[0m 13ms/step - acc: 0.9380 - loss: 0.2058 - val_acc: 0.8771 - val_loss: 0.4487\n",
            "Epoch 47/100\n",
            "\u001b[1m125/125\u001b[0m \u001b[32m━━━━━━━━━━━━━━━━━━━━\u001b[0m\u001b[37m\u001b[0m \u001b[1m2s\u001b[0m 13ms/step - acc: 0.9406 - loss: 0.1959 - val_acc: 0.8766 - val_loss: 0.4501\n",
            "Epoch 48/100\n",
            "\u001b[1m125/125\u001b[0m \u001b[32m━━━━━━━━━━━━━━━━━━━━\u001b[0m\u001b[37m\u001b[0m \u001b[1m3s\u001b[0m 14ms/step - acc: 0.9408 - loss: 0.1945 - val_acc: 0.8759 - val_loss: 0.4514\n",
            "Epoch 49/100\n",
            "\u001b[1m125/125\u001b[0m \u001b[32m━━━━━━━━━━━━━━━━━━━━\u001b[0m\u001b[37m\u001b[0m \u001b[1m2s\u001b[0m 13ms/step - acc: 0.9433 - loss: 0.1869 - val_acc: 0.8761 - val_loss: 0.4565\n",
            "Epoch 50/100\n",
            "\u001b[1m125/125\u001b[0m \u001b[32m━━━━━━━━━━━━━━━━━━━━\u001b[0m\u001b[37m\u001b[0m \u001b[1m2s\u001b[0m 13ms/step - acc: 0.9447 - loss: 0.1824 - val_acc: 0.8761 - val_loss: 0.4557\n",
            "Epoch 51/100\n",
            "\u001b[1m125/125\u001b[0m \u001b[32m━━━━━━━━━━━━━━━━━━━━\u001b[0m\u001b[37m\u001b[0m \u001b[1m2s\u001b[0m 12ms/step - acc: 0.9465 - loss: 0.1773 - val_acc: 0.8777 - val_loss: 0.4568\n",
            "Epoch 52/100\n",
            "\u001b[1m125/125\u001b[0m \u001b[32m━━━━━━━━━━━━━━━━━━━━\u001b[0m\u001b[37m\u001b[0m \u001b[1m3s\u001b[0m 12ms/step - acc: 0.9477 - loss: 0.1723 - val_acc: 0.8761 - val_loss: 0.4637\n",
            "Epoch 53/100\n",
            "\u001b[1m125/125\u001b[0m \u001b[32m━━━━━━━━━━━━━━━━━━━━\u001b[0m\u001b[37m\u001b[0m \u001b[1m2s\u001b[0m 13ms/step - acc: 0.9496 - loss: 0.1657 - val_acc: 0.8770 - val_loss: 0.4638\n",
            "Epoch 54/100\n",
            "\u001b[1m125/125\u001b[0m \u001b[32m━━━━━━━━━━━━━━━━━━━━\u001b[0m\u001b[37m\u001b[0m \u001b[1m2s\u001b[0m 15ms/step - acc: 0.9504 - loss: 0.1636 - val_acc: 0.8775 - val_loss: 0.4644\n",
            "Epoch 55/100\n",
            "\u001b[1m125/125\u001b[0m \u001b[32m━━━━━━━━━━━━━━━━━━━━\u001b[0m\u001b[37m\u001b[0m \u001b[1m2s\u001b[0m 13ms/step - acc: 0.9514 - loss: 0.1580 - val_acc: 0.8763 - val_loss: 0.4750\n",
            "Epoch 56/100\n",
            "\u001b[1m125/125\u001b[0m \u001b[32m━━━━━━━━━━━━━━━━━━━━\u001b[0m\u001b[37m\u001b[0m \u001b[1m3s\u001b[0m 13ms/step - acc: 0.9523 - loss: 0.1565 - val_acc: 0.8774 - val_loss: 0.4762\n",
            "Epoch 57/100\n",
            "\u001b[1m125/125\u001b[0m \u001b[32m━━━━━━━━━━━━━━━━━━━━\u001b[0m\u001b[37m\u001b[0m \u001b[1m2s\u001b[0m 12ms/step - acc: 0.9533 - loss: 0.1515 - val_acc: 0.8763 - val_loss: 0.4829\n",
            "Epoch 58/100\n",
            "\u001b[1m125/125\u001b[0m \u001b[32m━━━━━━━━━━━━━━━━━━━━\u001b[0m\u001b[37m\u001b[0m \u001b[1m2s\u001b[0m 12ms/step - acc: 0.9550 - loss: 0.1474 - val_acc: 0.8760 - val_loss: 0.4870\n",
            "Epoch 59/100\n",
            "\u001b[1m125/125\u001b[0m \u001b[32m━━━━━━━━━━━━━━━━━━━━\u001b[0m\u001b[37m\u001b[0m \u001b[1m2s\u001b[0m 12ms/step - acc: 0.9560 - loss: 0.1426 - val_acc: 0.8759 - val_loss: 0.4873\n",
            "Epoch 60/100\n",
            "\u001b[1m125/125\u001b[0m \u001b[32m━━━━━━━━━━━━━━━━━━━━\u001b[0m\u001b[37m\u001b[0m \u001b[1m2s\u001b[0m 14ms/step - acc: 0.9582 - loss: 0.1355 - val_acc: 0.8754 - val_loss: 0.4963\n",
            "Epoch 61/100\n",
            "\u001b[1m125/125\u001b[0m \u001b[32m━━━━━━━━━━━━━━━━━━━━\u001b[0m\u001b[37m\u001b[0m \u001b[1m2s\u001b[0m 12ms/step - acc: 0.9579 - loss: 0.1366 - val_acc: 0.8755 - val_loss: 0.4948\n",
            "Epoch 62/100\n",
            "\u001b[1m125/125\u001b[0m \u001b[32m━━━━━━━━━━━━━━━━━━━━\u001b[0m\u001b[37m\u001b[0m \u001b[1m2s\u001b[0m 13ms/step - acc: 0.9598 - loss: 0.1305 - val_acc: 0.8766 - val_loss: 0.5014\n",
            "Epoch 63/100\n",
            "\u001b[1m125/125\u001b[0m \u001b[32m━━━━━━━━━━━━━━━━━━━━\u001b[0m\u001b[37m\u001b[0m \u001b[1m2s\u001b[0m 13ms/step - acc: 0.9611 - loss: 0.1252 - val_acc: 0.8774 - val_loss: 0.4979\n",
            "Epoch 64/100\n",
            "\u001b[1m125/125\u001b[0m \u001b[32m━━━━━━━━━━━━━━━━━━━━\u001b[0m\u001b[37m\u001b[0m \u001b[1m2s\u001b[0m 12ms/step - acc: 0.9624 - loss: 0.1217 - val_acc: 0.8753 - val_loss: 0.5102\n",
            "Epoch 65/100\n",
            "\u001b[1m125/125\u001b[0m \u001b[32m━━━━━━━━━━━━━━━━━━━━\u001b[0m\u001b[37m\u001b[0m \u001b[1m2s\u001b[0m 13ms/step - acc: 0.9622 - loss: 0.1219 - val_acc: 0.8762 - val_loss: 0.5139\n",
            "Epoch 66/100\n",
            "\u001b[1m125/125\u001b[0m \u001b[32m━━━━━━━━━━━━━━━━━━━━\u001b[0m\u001b[37m\u001b[0m \u001b[1m3s\u001b[0m 15ms/step - acc: 0.9641 - loss: 0.1166 - val_acc: 0.8762 - val_loss: 0.5157\n",
            "Epoch 67/100\n",
            "\u001b[1m125/125\u001b[0m \u001b[32m━━━━━━━━━━━━━━━━━━━━\u001b[0m\u001b[37m\u001b[0m \u001b[1m2s\u001b[0m 13ms/step - acc: 0.9656 - loss: 0.1120 - val_acc: 0.8755 - val_loss: 0.5232\n",
            "Epoch 68/100\n",
            "\u001b[1m125/125\u001b[0m \u001b[32m━━━━━━━━━━━━━━━━━━━━\u001b[0m\u001b[37m\u001b[0m \u001b[1m3s\u001b[0m 13ms/step - acc: 0.9655 - loss: 0.1106 - val_acc: 0.8759 - val_loss: 0.5237\n",
            "Epoch 69/100\n",
            "\u001b[1m125/125\u001b[0m \u001b[32m━━━━━━━━━━━━━━━━━━━━\u001b[0m\u001b[37m\u001b[0m \u001b[1m2s\u001b[0m 13ms/step - acc: 0.9673 - loss: 0.1065 - val_acc: 0.8756 - val_loss: 0.5319\n",
            "Epoch 70/100\n",
            "\u001b[1m125/125\u001b[0m \u001b[32m━━━━━━━━━━━━━━━━━━━━\u001b[0m\u001b[37m\u001b[0m \u001b[1m2s\u001b[0m 12ms/step - acc: 0.9684 - loss: 0.1032 - val_acc: 0.8756 - val_loss: 0.5372\n",
            "Epoch 71/100\n",
            "\u001b[1m125/125\u001b[0m \u001b[32m━━━━━━━━━━━━━━━━━━━━\u001b[0m\u001b[37m\u001b[0m \u001b[1m2s\u001b[0m 12ms/step - acc: 0.9686 - loss: 0.1018 - val_acc: 0.8755 - val_loss: 0.5386\n",
            "Epoch 72/100\n",
            "\u001b[1m125/125\u001b[0m \u001b[32m━━━━━━━━━━━━━━━━━━━━\u001b[0m\u001b[37m\u001b[0m \u001b[1m3s\u001b[0m 15ms/step - acc: 0.9694 - loss: 0.0990 - val_acc: 0.8758 - val_loss: 0.5440\n",
            "Epoch 73/100\n",
            "\u001b[1m125/125\u001b[0m \u001b[32m━━━━━━━━━━━━━━━━━━━━\u001b[0m\u001b[37m\u001b[0m \u001b[1m2s\u001b[0m 13ms/step - acc: 0.9708 - loss: 0.0938 - val_acc: 0.8755 - val_loss: 0.5473\n",
            "Epoch 74/100\n",
            "\u001b[1m125/125\u001b[0m \u001b[32m━━━━━━━━━━━━━━━━━━━━\u001b[0m\u001b[37m\u001b[0m \u001b[1m2s\u001b[0m 13ms/step - acc: 0.9705 - loss: 0.0937 - val_acc: 0.8748 - val_loss: 0.5506\n",
            "Epoch 75/100\n",
            "\u001b[1m125/125\u001b[0m \u001b[32m━━━━━━━━━━━━━━━━━━━━\u001b[0m\u001b[37m\u001b[0m \u001b[1m3s\u001b[0m 13ms/step - acc: 0.9719 - loss: 0.0901 - val_acc: 0.8735 - val_loss: 0.5631\n",
            "Epoch 76/100\n",
            "\u001b[1m125/125\u001b[0m \u001b[32m━━━━━━━━━━━━━━━━━━━━\u001b[0m\u001b[37m\u001b[0m \u001b[1m2s\u001b[0m 12ms/step - acc: 0.9714 - loss: 0.0907 - val_acc: 0.8743 - val_loss: 0.5623\n",
            "Epoch 77/100\n",
            "\u001b[1m125/125\u001b[0m \u001b[32m━━━━━━━━━━━━━━━━━━━━\u001b[0m\u001b[37m\u001b[0m \u001b[1m3s\u001b[0m 13ms/step - acc: 0.9733 - loss: 0.0861 - val_acc: 0.8744 - val_loss: 0.5686\n",
            "Epoch 78/100\n",
            "\u001b[1m125/125\u001b[0m \u001b[32m━━━━━━━━━━━━━━━━━━━━\u001b[0m\u001b[37m\u001b[0m \u001b[1m2s\u001b[0m 15ms/step - acc: 0.9741 - loss: 0.0831 - val_acc: 0.8739 - val_loss: 0.5790\n",
            "Epoch 79/100\n",
            "\u001b[1m125/125\u001b[0m \u001b[32m━━━━━━━━━━━━━━━━━━━━\u001b[0m\u001b[37m\u001b[0m \u001b[1m2s\u001b[0m 13ms/step - acc: 0.9743 - loss: 0.0824 - val_acc: 0.8746 - val_loss: 0.5773\n",
            "Epoch 80/100\n",
            "\u001b[1m125/125\u001b[0m \u001b[32m━━━━━━━━━━━━━━━━━━━━\u001b[0m\u001b[37m\u001b[0m \u001b[1m2s\u001b[0m 12ms/step - acc: 0.9742 - loss: 0.0816 - val_acc: 0.8745 - val_loss: 0.5819\n",
            "Epoch 81/100\n",
            "\u001b[1m125/125\u001b[0m \u001b[32m━━━━━━━━━━━━━━━━━━━━\u001b[0m\u001b[37m\u001b[0m \u001b[1m3s\u001b[0m 13ms/step - acc: 0.9753 - loss: 0.0782 - val_acc: 0.8741 - val_loss: 0.5904\n",
            "Epoch 82/100\n",
            "\u001b[1m125/125\u001b[0m \u001b[32m━━━━━━━━━━━━━━━━━━━━\u001b[0m\u001b[37m\u001b[0m \u001b[1m2s\u001b[0m 13ms/step - acc: 0.9758 - loss: 0.0760 - val_acc: 0.8737 - val_loss: 0.5910\n",
            "Epoch 83/100\n",
            "\u001b[1m125/125\u001b[0m \u001b[32m━━━━━━━━━━━━━━━━━━━━\u001b[0m\u001b[37m\u001b[0m \u001b[1m2s\u001b[0m 13ms/step - acc: 0.9763 - loss: 0.0746 - val_acc: 0.8746 - val_loss: 0.5988\n",
            "Epoch 84/100\n",
            "\u001b[1m125/125\u001b[0m \u001b[32m━━━━━━━━━━━━━━━━━━━━\u001b[0m\u001b[37m\u001b[0m \u001b[1m2s\u001b[0m 16ms/step - acc: 0.9767 - loss: 0.0729 - val_acc: 0.8724 - val_loss: 0.6134\n",
            "Epoch 85/100\n",
            "\u001b[1m125/125\u001b[0m \u001b[32m━━━━━━━━━━━━━━━━━━━━\u001b[0m\u001b[37m\u001b[0m \u001b[1m2s\u001b[0m 13ms/step - acc: 0.9779 - loss: 0.0697 - val_acc: 0.8741 - val_loss: 0.6117\n",
            "Epoch 86/100\n",
            "\u001b[1m125/125\u001b[0m \u001b[32m━━━━━━━━━━━━━━━━━━━━\u001b[0m\u001b[37m\u001b[0m \u001b[1m2s\u001b[0m 13ms/step - acc: 0.9778 - loss: 0.0696 - val_acc: 0.8737 - val_loss: 0.6151\n",
            "Epoch 87/100\n",
            "\u001b[1m125/125\u001b[0m \u001b[32m━━━━━━━━━━━━━━━━━━━━\u001b[0m\u001b[37m\u001b[0m \u001b[1m2s\u001b[0m 12ms/step - acc: 0.9782 - loss: 0.0670 - val_acc: 0.8732 - val_loss: 0.6227\n",
            "Epoch 88/100\n",
            "\u001b[1m125/125\u001b[0m \u001b[32m━━━━━━━━━━━━━━━━━━━━\u001b[0m\u001b[37m\u001b[0m \u001b[1m2s\u001b[0m 13ms/step - acc: 0.9790 - loss: 0.0646 - val_acc: 0.8739 - val_loss: 0.6225\n",
            "Epoch 89/100\n",
            "\u001b[1m125/125\u001b[0m \u001b[32m━━━━━━━━━━━━━━━━━━━━\u001b[0m\u001b[37m\u001b[0m \u001b[1m2s\u001b[0m 13ms/step - acc: 0.9795 - loss: 0.0641 - val_acc: 0.8740 - val_loss: 0.6232\n",
            "Epoch 90/100\n",
            "\u001b[1m125/125\u001b[0m \u001b[32m━━━━━━━━━━━━━━━━━━━━\u001b[0m\u001b[37m\u001b[0m \u001b[1m2s\u001b[0m 13ms/step - acc: 0.9795 - loss: 0.0627 - val_acc: 0.8729 - val_loss: 0.6326\n",
            "Epoch 91/100\n",
            "\u001b[1m125/125\u001b[0m \u001b[32m━━━━━━━━━━━━━━━━━━━━\u001b[0m\u001b[37m\u001b[0m \u001b[1m3s\u001b[0m 14ms/step - acc: 0.9800 - loss: 0.0616 - val_acc: 0.8739 - val_loss: 0.6307\n",
            "Epoch 92/100\n",
            "\u001b[1m125/125\u001b[0m \u001b[32m━━━━━━━━━━━━━━━━━━━━\u001b[0m\u001b[37m\u001b[0m \u001b[1m2s\u001b[0m 13ms/step - acc: 0.9800 - loss: 0.0610 - val_acc: 0.8731 - val_loss: 0.6411\n",
            "Epoch 93/100\n",
            "\u001b[1m125/125\u001b[0m \u001b[32m━━━━━━━━━━━━━━━━━━━━\u001b[0m\u001b[37m\u001b[0m \u001b[1m2s\u001b[0m 13ms/step - acc: 0.9804 - loss: 0.0595 - val_acc: 0.8731 - val_loss: 0.6440\n",
            "Epoch 94/100\n",
            "\u001b[1m125/125\u001b[0m \u001b[32m━━━━━━━━━━━━━━━━━━━━\u001b[0m\u001b[37m\u001b[0m \u001b[1m2s\u001b[0m 13ms/step - acc: 0.9810 - loss: 0.0583 - val_acc: 0.8729 - val_loss: 0.6503\n",
            "Epoch 95/100\n",
            "\u001b[1m125/125\u001b[0m \u001b[32m━━━━━━━━━━━━━━━━━━━━\u001b[0m\u001b[37m\u001b[0m \u001b[1m2s\u001b[0m 13ms/step - acc: 0.9817 - loss: 0.0560 - val_acc: 0.8731 - val_loss: 0.6498\n",
            "Epoch 96/100\n",
            "\u001b[1m125/125\u001b[0m \u001b[32m━━━━━━━━━━━━━━━━━━━━\u001b[0m\u001b[37m\u001b[0m \u001b[1m2s\u001b[0m 14ms/step - acc: 0.9820 - loss: 0.0548 - val_acc: 0.8729 - val_loss: 0.6589\n",
            "Epoch 97/100\n",
            "\u001b[1m125/125\u001b[0m \u001b[32m━━━━━━━━━━━━━━━━━━━━\u001b[0m\u001b[37m\u001b[0m \u001b[1m2s\u001b[0m 13ms/step - acc: 0.9822 - loss: 0.0540 - val_acc: 0.8721 - val_loss: 0.6630\n",
            "Epoch 98/100\n",
            "\u001b[1m125/125\u001b[0m \u001b[32m━━━━━━━━━━━━━━━━━━━━\u001b[0m\u001b[37m\u001b[0m \u001b[1m2s\u001b[0m 13ms/step - acc: 0.9825 - loss: 0.0532 - val_acc: 0.8721 - val_loss: 0.6652\n",
            "Epoch 99/100\n",
            "\u001b[1m125/125\u001b[0m \u001b[32m━━━━━━━━━━━━━━━━━━━━\u001b[0m\u001b[37m\u001b[0m \u001b[1m3s\u001b[0m 13ms/step - acc: 0.9831 - loss: 0.0511 - val_acc: 0.8734 - val_loss: 0.6677\n",
            "Epoch 100/100\n",
            "\u001b[1m125/125\u001b[0m \u001b[32m━━━━━━━━━━━━━━━━━━━━\u001b[0m\u001b[37m\u001b[0m \u001b[1m2s\u001b[0m 13ms/step - acc: 0.9832 - loss: 0.0503 - val_acc: 0.8732 - val_loss: 0.6749\n"
          ]
        }
      ],
      "source": [
        "history = model.fit(\n",
        "    x = [encoder_input_data, decoder_input_data],\n",
        "    y = decoder_target_data,\n",
        "    batch_size = batch_size,\n",
        "    epochs=epochs,\n",
        "    validation_split=0.2\n",
        ")"
      ]
    },
    {
      "cell_type": "code",
      "execution_count": 15,
      "metadata": {
        "colab": {
          "base_uri": "https://localhost:8080/",
          "height": 370
        },
        "id": "jPg-2M7gzK9C",
        "outputId": "18df1f2d-983f-4610-da64-b4d477bec616"
      },
      "outputs": [
        {
          "data": {
            "image/png": "[encoded data removed]",
            "text/plain": [
              "<Figure size 1000x300 with 2 Axes>"
            ]
          },
          "metadata": {},
          "output_type": "display_data"
        }
      ],
      "source": [
        "fig, (ax1, ax2) = plt.subplots(1, 2, figsize=(10, 3), gridspec_kw={'wspace': 0.5})\n",
        "\n",
        "ax1.plot(history.history['acc'], label='Training data')\n",
        "ax1.plot(history.history['val_acc'], label='Validation data')\n",
        "ax1.set_xlabel('Epoch')\n",
        "ax1.set_ylabel('Accuracy')\n",
        "ax1.set_title('Accuracy')\n",
        "\n",
        "# Plot loss\n",
        "ax2.plot(history.history['loss'])\n",
        "ax2.plot(history.history['val_loss'])\n",
        "ax2.set_xlabel('Epoch')\n",
        "ax2.set_ylabel('Loss')\n",
        "ax2.set_title('Loss')\n",
        "\n",
        "fig.legend(bbox_to_anchor = (1,1.10))\n",
        "fig.suptitle(\"Complex Image Representation\", y=1.05)\n",
        "plt.show()"
      ]
    },
    {
      "cell_type": "code",
      "execution_count": 16,
      "metadata": {
        "id": "RAt5oP_jLGB_"
      },
      "outputs": [],
      "source": [
        "# As our model is trained on on 'teacher forcing method' it by defaults input the ground truth vector as input to the decoder at each\n",
        "# timestamp and would do same during inference which is not the desired behaviour as now we only have input_seq and not ground_truth\n",
        "# along with it\n",
        "\n",
        "# So during the inference we would generate each output and manually create the next input and state for the decoder and give the as input\n",
        "# decoder_dense and decoder retain their trained weights after the training\n",
        "\n",
        "encoder_model = Model(encoder_input, encoder_final_state)\n",
        "\n",
        "\n",
        "decoder_input_state_h = Input(shape =  (latent_dim,))\n",
        "decoder_input_state_c = Input(shape =  (latent_dim,))\n",
        "decoder_output, decoder_output_state_h, decoder_output_state_c = decoder(decoder_input, initial_state = [decoder_input_state_h, decoder_input_state_c])\n",
        "decoder_output = decoder_dense(decoder_output)\n",
        "decoder_model = Model([decoder_input, decoder_input_state_h, decoder_input_state_c], [decoder_output, decoder_output_state_h, decoder_output_state_c])\n"
      ]
    },
    {
      "cell_type": "code",
      "execution_count": 17,
      "metadata": {
        "id": "RNYzZw3KCeEI"
      },
      "outputs": [],
      "source": [
        "def TxtToSeq(txt, max_input_sentence_length, num_input_characters, input_char_dict):\n",
        "  seq = np.zeros(shape = (1, max_input_sentence_length, num_input_characters))\n",
        "  for t, ch in enumerate(txt):\n",
        "    seq[0, t, input_char_dict[ch]] = 1\n",
        "  seq[0, t+1:, input_char_dict[' ']] = 1\n",
        "  return seq"
      ]
    },
    {
      "cell_type": "code",
      "execution_count": 18,
      "metadata": {
        "id": "R9UzgrWgCeHY"
      },
      "outputs": [],
      "source": [
        "def predict(input_seq):\n",
        "  state_h, state_c  = encoder_model(input_seq)\n",
        "  target_seq = np.zeros(shape = (1, 1, num_target_characters))\n",
        "  target_seq[0, 0, target_char_dict['\\t']] = 1\n",
        "\n",
        "  stop = False\n",
        "  decoded_sentence = '';\n",
        "  while not stop:\n",
        "    out, h, c = decoder_model.predict([target_seq, state_h, state_c])\n",
        "    idx = np.argmax(out[0,0,:])\n",
        "    ch = reversed_target_char_dict[idx]\n",
        "\n",
        "    if(ch == '\\n' or len(decoded_sentence) > max_target_sentence_length):stop = True\n",
        "    decoded_sentence = decoded_sentence + ch;\n",
        "\n",
        "    target_seq = np.zeros(shape = (1, 1, num_target_characters))\n",
        "    target_seq[0, 0, target_char_dict[ch]] = 1\n",
        "\n",
        "    state_h = h\n",
        "    state_c = c\n",
        "\n",
        "  return decoded_sentence"
      ]
    },
    {
      "cell_type": "code",
      "execution_count": 27,
      "metadata": {
        "id": "8H7aUMSSGM8k"
      },
      "outputs": [],
      "source": [
        "def make_prediction(txt):\n",
        "  input_sentence = txt\n",
        "  input_seq = TxtToSeq(input_sentence, max_input_sentence_length, num_input_characters, input_char_dict)\n",
        "  decoded_sentence = predict(input_seq)\n",
        "  return decoded_sentence"
      ]
    },
    {
      "cell_type": "code",
      "execution_count": 28,
      "metadata": {
        "colab": {
          "base_uri": "https://localhost:8080/"
        },
        "id": "3csEygdhCeBA",
        "outputId": "e5fa9af7-2994-423d-d86a-a606f13e1e18"
      },
      "outputs": [
        {
          "name": "stdout",
          "output_type": "stream",
          "text": [
            "\u001b[1m1/1\u001b[0m \u001b[32m━━━━━━━━━━━━━━━━━━━━\u001b[0m\u001b[37m\u001b[0m \u001b[1m0s\u001b[0m 32ms/step\n",
            "\u001b[1m1/1\u001b[0m \u001b[32m━━━━━━━━━━━━━━━━━━━━\u001b[0m\u001b[37m\u001b[0m \u001b[1m0s\u001b[0m 35ms/step\n",
            "\u001b[1m1/1\u001b[0m \u001b[32m━━━━━━━━━━━━━━━━━━━━\u001b[0m\u001b[37m\u001b[0m \u001b[1m0s\u001b[0m 35ms/step\n",
            "\u001b[1m1/1\u001b[0m \u001b[32m━━━━━━━━━━━━━━━━━━━━\u001b[0m\u001b[37m\u001b[0m \u001b[1m0s\u001b[0m 34ms/step\n",
            "\u001b[1m1/1\u001b[0m \u001b[32m━━━━━━━━━━━━━━━━━━━━\u001b[0m\u001b[37m\u001b[0m \u001b[1m0s\u001b[0m 34ms/step\n",
            "\u001b[1m1/1\u001b[0m \u001b[32m━━━━━━━━━━━━━━━━━━━━\u001b[0m\u001b[37m\u001b[0m \u001b[1m0s\u001b[0m 38ms/step\n",
            "\u001b[1m1/1\u001b[0m \u001b[32m━━━━━━━━━━━━━━━━━━━━\u001b[0m\u001b[37m\u001b[0m \u001b[1m0s\u001b[0m 35ms/step\n"
          ]
        }
      ],
      "source": [
        "input_sentence = \"Hello\"\n",
        "decoded_sentence = make_prediction(input_sentence)"
      ]
    },
    {
      "cell_type": "code",
      "execution_count": 29,
      "metadata": {
        "colab": {
          "base_uri": "https://localhost:8080/"
        },
        "id": "emxVd4c4yHFV",
        "outputId": "347bbe1e-ffb6-4f8a-d3f3-eb1de4dd5896"
      },
      "outputs": [
        {
          "name": "stdout",
          "output_type": "stream",
          "text": [
            "Input sentence =  Hello\n",
            "Output sentence =  Salut.\n",
            "\n"
          ]
        }
      ],
      "source": [
        "print(\"Input sentence = \", input_sentence)\n",
        "print(\"Output sentence = \", decoded_sentence)"
      ]
    },
    {
      "cell_type": "code",
      "execution_count": 30,
      "metadata": {
        "colab": {
          "base_uri": "https://localhost:8080/"
        },
        "id": "lwmtYxT5Dyfx",
        "outputId": "cbce411c-b6b8-4813-f905-fede70ff17d4"
      },
      "outputs": [
        {
          "name": "stdout",
          "output_type": "stream",
          "text": [
            "\u001b[1m1/1\u001b[0m \u001b[32m━━━━━━━━━━━━━━━━━━━━\u001b[0m\u001b[37m\u001b[0m \u001b[1m0s\u001b[0m 52ms/step\n",
            "\u001b[1m1/1\u001b[0m \u001b[32m━━━━━━━━━━━━━━━━━━━━\u001b[0m\u001b[37m\u001b[0m \u001b[1m0s\u001b[0m 38ms/step\n",
            "\u001b[1m1/1\u001b[0m \u001b[32m━━━━━━━━━━━━━━━━━━━━\u001b[0m\u001b[37m\u001b[0m \u001b[1m0s\u001b[0m 33ms/step\n",
            "\u001b[1m1/1\u001b[0m \u001b[32m━━━━━━━━━━━━━━━━━━━━\u001b[0m\u001b[37m\u001b[0m \u001b[1m0s\u001b[0m 32ms/step\n",
            "\u001b[1m1/1\u001b[0m \u001b[32m━━━━━━━━━━━━━━━━━━━━\u001b[0m\u001b[37m\u001b[0m \u001b[1m0s\u001b[0m 34ms/step\n",
            "\u001b[1m1/1\u001b[0m \u001b[32m━━━━━━━━━━━━━━━━━━━━\u001b[0m\u001b[37m\u001b[0m \u001b[1m0s\u001b[0m 53ms/step\n",
            "\u001b[1m1/1\u001b[0m \u001b[32m━━━━━━━━━━━━━━━━━━━━\u001b[0m\u001b[37m\u001b[0m \u001b[1m0s\u001b[0m 53ms/step\n",
            "\u001b[1m1/1\u001b[0m \u001b[32m━━━━━━━━━━━━━━━━━━━━\u001b[0m\u001b[37m\u001b[0m \u001b[1m0s\u001b[0m 51ms/step\n",
            "\u001b[1m1/1\u001b[0m \u001b[32m━━━━━━━━━━━━━━━━━━━━\u001b[0m\u001b[37m\u001b[0m \u001b[1m0s\u001b[0m 63ms/step\n",
            "\u001b[1m1/1\u001b[0m \u001b[32m━━━━━━━━━━━━━━━━━━━━\u001b[0m\u001b[37m\u001b[0m \u001b[1m0s\u001b[0m 68ms/step\n",
            "\u001b[1m1/1\u001b[0m \u001b[32m━━━━━━━━━━━━━━━━━━━━\u001b[0m\u001b[37m\u001b[0m \u001b[1m0s\u001b[0m 50ms/step\n",
            "\u001b[1m1/1\u001b[0m \u001b[32m━━━━━━━━━━━━━━━━━━━━\u001b[0m\u001b[37m\u001b[0m \u001b[1m0s\u001b[0m 47ms/step\n",
            "\u001b[1m1/1\u001b[0m \u001b[32m━━━━━━━━━━━━━━━━━━━━\u001b[0m\u001b[37m\u001b[0m \u001b[1m0s\u001b[0m 47ms/step\n"
          ]
        }
      ],
      "source": [
        "input_sentence = \"You've changed\"\n",
        "decoded_sentence = make_prediction(input_sentence)"
      ]
    },
    {
      "cell_type": "code",
      "execution_count": 31,
      "metadata": {
        "colab": {
          "base_uri": "https://localhost:8080/"
        },
        "id": "WuxOeu9eDych",
        "outputId": "600ebef4-c36c-4b35-b3ae-f1764447da9b"
      },
      "outputs": [
        {
          "name": "stdout",
          "output_type": "stream",
          "text": [
            "Input sentence =  You've changed\n",
            "Output sentence =  Tu as perdu.\n",
            "\n"
          ]
        }
      ],
      "source": [
        "print(\"Input sentence = \", input_sentence)\n",
        "print(\"Output sentence = \", decoded_sentence)"
      ]
    },
    {
      "cell_type": "code",
      "execution_count": null,
      "metadata": {
        "id": "Ad7FEKogG81I"
      },
      "outputs": [],
      "source": []
    }
  ],
  "metadata": {
    "accelerator": "GPU",
    "colab": {
      "gpuType": "T4",
      "provenance": []
    },
    "kernelspec": {
      "display_name": "Python 3",
      "name": "python3"
    },
    "language_info": {
      "name": "python"
    }
  },
  "nbformat": 4,
  "nbformat_minor": 0
}
