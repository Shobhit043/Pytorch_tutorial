{
  "nbformat": 4,
  "nbformat_minor": 0,
  "metadata": {
    "colab": {
      "provenance": []
    },
    "kernelspec": {
      "name": "python3",
      "display_name": "Python 3"
    },
    "language_info": {
      "name": "python"
    }
  },
  "cells": [
    {
      "cell_type": "code",
      "execution_count": 235,
      "metadata": {
        "id": "wfBsW5VYeFqX"
      },
      "outputs": [],
      "source": [
        "import pandas as pd\n",
        "\n",
        "import torch\n",
        "import torch.nn as nn\n",
        "from torch.utils.data import Dataset, DataLoader\n",
        "import torch.nn.functional as F\n",
        "\n",
        "device = torch.device('cuda' if torch.cuda.is_available() else 'cpu')"
      ]
    },
    {
      "cell_type": "code",
      "source": [
        "device"
      ],
      "metadata": {
        "colab": {
          "base_uri": "https://localhost:8080/"
        },
        "id": "MsXHXOZK1AJx",
        "outputId": "aaf8b465-b5f5-4b98-c674-5ef0744a1456"
      },
      "execution_count": 236,
      "outputs": [
        {
          "output_type": "execute_result",
          "data": {
            "text/plain": [
              "device(type='cpu')"
            ]
          },
          "metadata": {},
          "execution_count": 236
        }
      ]
    },
    {
      "cell_type": "code",
      "source": [
        "df = pd.read_csv('/content/100_Unique_QA_Dataset.csv')"
      ],
      "metadata": {
        "id": "3E8dUcQKerPD"
      },
      "execution_count": 237,
      "outputs": []
    },
    {
      "cell_type": "code",
      "source": [
        "df.head()"
      ],
      "metadata": {
        "colab": {
          "base_uri": "https://localhost:8080/",
          "height": 206
        },
        "id": "LLfmYEnyexGh",
        "outputId": "bc1e9e4d-6b14-45e9-ebbd-81dbfba65bc9"
      },
      "execution_count": 238,
      "outputs": [
        {
          "output_type": "execute_result",
          "data": {
            "text/plain": [
              "                                          question      answer\n",
              "0                   What is the capital of France?       Paris\n",
              "1                  What is the capital of Germany?      Berlin\n",
              "2               Who wrote 'To Kill a Mockingbird'?  Harper-Lee\n",
              "3  What is the largest planet in our solar system?     Jupiter\n",
              "4   What is the boiling point of water in Celsius?         100"
            ],
            "text/html": [
              "\n",
              "  <div id=\"df-089ef7ff-a525-4508-bffe-083c2723e320\" class=\"colab-df-container\">\n",
              "    <div>\n",
              "<style scoped>\n",
              "    .dataframe tbody tr th:only-of-type {\n",
              "        vertical-align: middle;\n",
              "    }\n",
              "\n",
              "    .dataframe tbody tr th {\n",
              "        vertical-align: top;\n",
              "    }\n",
              "\n",
              "    .dataframe thead th {\n",
              "        text-align: right;\n",
              "    }\n",
              "</style>\n",
              "<table border=\"1\" class=\"dataframe\">\n",
              "  <thead>\n",
              "    <tr style=\"text-align: right;\">\n",
              "      <th></th>\n",
              "      <th>question</th>\n",
              "      <th>answer</th>\n",
              "    </tr>\n",
              "  </thead>\n",
              "  <tbody>\n",
              "    <tr>\n",
              "      <th>0</th>\n",
              "      <td>What is the capital of France?</td>\n",
              "      <td>Paris</td>\n",
              "    </tr>\n",
              "    <tr>\n",
              "      <th>1</th>\n",
              "      <td>What is the capital of Germany?</td>\n",
              "      <td>Berlin</td>\n",
              "    </tr>\n",
              "    <tr>\n",
              "      <th>2</th>\n",
              "      <td>Who wrote 'To Kill a Mockingbird'?</td>\n",
              "      <td>Harper-Lee</td>\n",
              "    </tr>\n",
              "    <tr>\n",
              "      <th>3</th>\n",
              "      <td>What is the largest planet in our solar system?</td>\n",
              "      <td>Jupiter</td>\n",
              "    </tr>\n",
              "    <tr>\n",
              "      <th>4</th>\n",
              "      <td>What is the boiling point of water in Celsius?</td>\n",
              "      <td>100</td>\n",
              "    </tr>\n",
              "  </tbody>\n",
              "</table>\n",
              "</div>\n",
              "    <div class=\"colab-df-buttons\">\n",
              "\n",
              "  <div class=\"colab-df-container\">\n",
              "    <button class=\"colab-df-convert\" onclick=\"convertToInteractive('df-089ef7ff-a525-4508-bffe-083c2723e320')\"\n",
              "            title=\"Convert this dataframe to an interactive table.\"\n",
              "            style=\"display:none;\">\n",
              "\n",
              "  <svg xmlns=\"http://www.w3.org/2000/svg\" height=\"24px\" viewBox=\"0 -960 960 960\">\n",
              "    <path d=\"M120-120v-720h720v720H120Zm60-500h600v-160H180v160Zm220 220h160v-160H400v160Zm0 220h160v-160H400v160ZM180-400h160v-160H180v160Zm440 0h160v-160H620v160ZM180-180h160v-160H180v160Zm440 0h160v-160H620v160Z\"/>\n",
              "  </svg>\n",
              "    </button>\n",
              "\n",
              "  <style>\n",
              "    .colab-df-container {\n",
              "      display:flex;\n",
              "      gap: 12px;\n",
              "    }\n",
              "\n",
              "    .colab-df-convert {\n",
              "      background-color: #E8F0FE;\n",
              "      border: none;\n",
              "      border-radius: 50%;\n",
              "      cursor: pointer;\n",
              "      display: none;\n",
              "      fill: #1967D2;\n",
              "      height: 32px;\n",
              "      padding: 0 0 0 0;\n",
              "      width: 32px;\n",
              "    }\n",
              "\n",
              "    .colab-df-convert:hover {\n",
              "      background-color: #E2EBFA;\n",
              "      box-shadow: 0px 1px 2px rgba(60, 64, 67, 0.3), 0px 1px 3px 1px rgba(60, 64, 67, 0.15);\n",
              "      fill: #174EA6;\n",
              "    }\n",
              "\n",
              "    .colab-df-buttons div {\n",
              "      margin-bottom: 4px;\n",
              "    }\n",
              "\n",
              "    [theme=dark] .colab-df-convert {\n",
              "      background-color: #3B4455;\n",
              "      fill: #D2E3FC;\n",
              "    }\n",
              "\n",
              "    [theme=dark] .colab-df-convert:hover {\n",
              "      background-color: #434B5C;\n",
              "      box-shadow: 0px 1px 3px 1px rgba(0, 0, 0, 0.15);\n",
              "      filter: drop-shadow(0px 1px 2px rgba(0, 0, 0, 0.3));\n",
              "      fill: #FFFFFF;\n",
              "    }\n",
              "  </style>\n",
              "\n",
              "    <script>\n",
              "      const buttonEl =\n",
              "        document.querySelector('#df-089ef7ff-a525-4508-bffe-083c2723e320 button.colab-df-convert');\n",
              "      buttonEl.style.display =\n",
              "        google.colab.kernel.accessAllowed ? 'block' : 'none';\n",
              "\n",
              "      async function convertToInteractive(key) {\n",
              "        const element = document.querySelector('#df-089ef7ff-a525-4508-bffe-083c2723e320');\n",
              "        const dataTable =\n",
              "          await google.colab.kernel.invokeFunction('convertToInteractive',\n",
              "                                                    [key], {});\n",
              "        if (!dataTable) return;\n",
              "\n",
              "        const docLinkHtml = 'Like what you see? Visit the ' +\n",
              "          '<a target=\"_blank\" href=https://colab.research.google.com/notebooks/data_table.ipynb>data table notebook</a>'\n",
              "          + ' to learn more about interactive tables.';\n",
              "        element.innerHTML = '';\n",
              "        dataTable['output_type'] = 'display_data';\n",
              "        await google.colab.output.renderOutput(dataTable, element);\n",
              "        const docLink = document.createElement('div');\n",
              "        docLink.innerHTML = docLinkHtml;\n",
              "        element.appendChild(docLink);\n",
              "      }\n",
              "    </script>\n",
              "  </div>\n",
              "\n",
              "\n",
              "    <div id=\"df-f6e38ae7-0a1d-4cf3-8082-4502967eb03e\">\n",
              "      <button class=\"colab-df-quickchart\" onclick=\"quickchart('df-f6e38ae7-0a1d-4cf3-8082-4502967eb03e')\"\n",
              "                title=\"Suggest charts\"\n",
              "                style=\"display:none;\">\n",
              "\n",
              "<svg xmlns=\"http://www.w3.org/2000/svg\" height=\"24px\"viewBox=\"0 0 24 24\"\n",
              "     width=\"24px\">\n",
              "    <g>\n",
              "        <path d=\"M19 3H5c-1.1 0-2 .9-2 2v14c0 1.1.9 2 2 2h14c1.1 0 2-.9 2-2V5c0-1.1-.9-2-2-2zM9 17H7v-7h2v7zm4 0h-2V7h2v10zm4 0h-2v-4h2v4z\"/>\n",
              "    </g>\n",
              "</svg>\n",
              "      </button>\n",
              "\n",
              "<style>\n",
              "  .colab-df-quickchart {\n",
              "      --bg-color: #E8F0FE;\n",
              "      --fill-color: #1967D2;\n",
              "      --hover-bg-color: #E2EBFA;\n",
              "      --hover-fill-color: #174EA6;\n",
              "      --disabled-fill-color: #AAA;\n",
              "      --disabled-bg-color: #DDD;\n",
              "  }\n",
              "\n",
              "  [theme=dark] .colab-df-quickchart {\n",
              "      --bg-color: #3B4455;\n",
              "      --fill-color: #D2E3FC;\n",
              "      --hover-bg-color: #434B5C;\n",
              "      --hover-fill-color: #FFFFFF;\n",
              "      --disabled-bg-color: #3B4455;\n",
              "      --disabled-fill-color: #666;\n",
              "  }\n",
              "\n",
              "  .colab-df-quickchart {\n",
              "    background-color: var(--bg-color);\n",
              "    border: none;\n",
              "    border-radius: 50%;\n",
              "    cursor: pointer;\n",
              "    display: none;\n",
              "    fill: var(--fill-color);\n",
              "    height: 32px;\n",
              "    padding: 0;\n",
              "    width: 32px;\n",
              "  }\n",
              "\n",
              "  .colab-df-quickchart:hover {\n",
              "    background-color: var(--hover-bg-color);\n",
              "    box-shadow: 0 1px 2px rgba(60, 64, 67, 0.3), 0 1px 3px 1px rgba(60, 64, 67, 0.15);\n",
              "    fill: var(--button-hover-fill-color);\n",
              "  }\n",
              "\n",
              "  .colab-df-quickchart-complete:disabled,\n",
              "  .colab-df-quickchart-complete:disabled:hover {\n",
              "    background-color: var(--disabled-bg-color);\n",
              "    fill: var(--disabled-fill-color);\n",
              "    box-shadow: none;\n",
              "  }\n",
              "\n",
              "  .colab-df-spinner {\n",
              "    border: 2px solid var(--fill-color);\n",
              "    border-color: transparent;\n",
              "    border-bottom-color: var(--fill-color);\n",
              "    animation:\n",
              "      spin 1s steps(1) infinite;\n",
              "  }\n",
              "\n",
              "  @keyframes spin {\n",
              "    0% {\n",
              "      border-color: transparent;\n",
              "      border-bottom-color: var(--fill-color);\n",
              "      border-left-color: var(--fill-color);\n",
              "    }\n",
              "    20% {\n",
              "      border-color: transparent;\n",
              "      border-left-color: var(--fill-color);\n",
              "      border-top-color: var(--fill-color);\n",
              "    }\n",
              "    30% {\n",
              "      border-color: transparent;\n",
              "      border-left-color: var(--fill-color);\n",
              "      border-top-color: var(--fill-color);\n",
              "      border-right-color: var(--fill-color);\n",
              "    }\n",
              "    40% {\n",
              "      border-color: transparent;\n",
              "      border-right-color: var(--fill-color);\n",
              "      border-top-color: var(--fill-color);\n",
              "    }\n",
              "    60% {\n",
              "      border-color: transparent;\n",
              "      border-right-color: var(--fill-color);\n",
              "    }\n",
              "    80% {\n",
              "      border-color: transparent;\n",
              "      border-right-color: var(--fill-color);\n",
              "      border-bottom-color: var(--fill-color);\n",
              "    }\n",
              "    90% {\n",
              "      border-color: transparent;\n",
              "      border-bottom-color: var(--fill-color);\n",
              "    }\n",
              "  }\n",
              "</style>\n",
              "\n",
              "      <script>\n",
              "        async function quickchart(key) {\n",
              "          const quickchartButtonEl =\n",
              "            document.querySelector('#' + key + ' button');\n",
              "          quickchartButtonEl.disabled = true;  // To prevent multiple clicks.\n",
              "          quickchartButtonEl.classList.add('colab-df-spinner');\n",
              "          try {\n",
              "            const charts = await google.colab.kernel.invokeFunction(\n",
              "                'suggestCharts', [key], {});\n",
              "          } catch (error) {\n",
              "            console.error('Error during call to suggestCharts:', error);\n",
              "          }\n",
              "          quickchartButtonEl.classList.remove('colab-df-spinner');\n",
              "          quickchartButtonEl.classList.add('colab-df-quickchart-complete');\n",
              "        }\n",
              "        (() => {\n",
              "          let quickchartButtonEl =\n",
              "            document.querySelector('#df-f6e38ae7-0a1d-4cf3-8082-4502967eb03e button');\n",
              "          quickchartButtonEl.style.display =\n",
              "            google.colab.kernel.accessAllowed ? 'block' : 'none';\n",
              "        })();\n",
              "      </script>\n",
              "    </div>\n",
              "\n",
              "    </div>\n",
              "  </div>\n"
            ],
            "application/vnd.google.colaboratory.intrinsic+json": {
              "type": "dataframe",
              "variable_name": "df",
              "summary": "{\n  \"name\": \"df\",\n  \"rows\": 90,\n  \"fields\": [\n    {\n      \"column\": \"question\",\n      \"properties\": {\n        \"dtype\": \"string\",\n        \"num_unique_values\": 90,\n        \"samples\": [\n          \"What is the currency of China?\",\n          \"What is the capital of Australia?\",\n          \"Who discovered electricity?\"\n        ],\n        \"semantic_type\": \"\",\n        \"description\": \"\"\n      }\n    },\n    {\n      \"column\": \"answer\",\n      \"properties\": {\n        \"dtype\": \"string\",\n        \"num_unique_values\": 85,\n        \"samples\": [\n          \"ChristopherColumbus\",\n          \"Paris\",\n          \"Christmas\"\n        ],\n        \"semantic_type\": \"\",\n        \"description\": \"\"\n      }\n    }\n  ]\n}"
            }
          },
          "metadata": {},
          "execution_count": 238
        }
      ]
    },
    {
      "cell_type": "code",
      "source": [
        "df.shape"
      ],
      "metadata": {
        "colab": {
          "base_uri": "https://localhost:8080/"
        },
        "id": "23uNBgdirlYS",
        "outputId": "86b646c4-e8f6-4ef7-8464-8b219791add4"
      },
      "execution_count": 239,
      "outputs": [
        {
          "output_type": "execute_result",
          "data": {
            "text/plain": [
              "(90, 2)"
            ]
          },
          "metadata": {},
          "execution_count": 239
        }
      ]
    },
    {
      "cell_type": "code",
      "source": [
        "def Tokenize(text):\n",
        "  text = text.lower()\n",
        "  text = text.replace('?','')\n",
        "  text = text.replace(\"'\",'')\n",
        "  text = text.split(' ')\n",
        "  return text"
      ],
      "metadata": {
        "id": "rUItQgfdeySi"
      },
      "execution_count": 240,
      "outputs": []
    },
    {
      "cell_type": "code",
      "source": [
        "Tokenize(\"What are you doing?\")"
      ],
      "metadata": {
        "colab": {
          "base_uri": "https://localhost:8080/"
        },
        "id": "FC423M5do2l8",
        "outputId": "145c1c11-56bb-4321-f98f-50c60d5fa453"
      },
      "execution_count": 241,
      "outputs": [
        {
          "output_type": "execute_result",
          "data": {
            "text/plain": [
              "['what', 'are', 'you', 'doing']"
            ]
          },
          "metadata": {},
          "execution_count": 241
        }
      ]
    },
    {
      "cell_type": "code",
      "source": [
        "def GetVocab(df):\n",
        "  vocab = {'<UNK>': 0}\n",
        "  for _, row in df.iterrows():\n",
        "    ques = Tokenize(row['question'])\n",
        "    ans = Tokenize(row['answer'])\n",
        "\n",
        "    for word in ans:\n",
        "      if word not in vocab:\n",
        "        vocab[word] = len(vocab)\n",
        "\n",
        "    for word in ques:\n",
        "      if word not in vocab:\n",
        "        vocab[word] =  len(vocab)\n",
        "\n",
        "  return vocab"
      ],
      "metadata": {
        "id": "bScq4_rSfhqI"
      },
      "execution_count": 242,
      "outputs": []
    },
    {
      "cell_type": "code",
      "source": [
        "vocab = GetVocab(df)\n",
        "vocab_size = len(vocab)\n",
        "print(\"Vocabulary size = \", vocab_size)"
      ],
      "metadata": {
        "colab": {
          "base_uri": "https://localhost:8080/"
        },
        "id": "G1A8Y_dPfi2o",
        "outputId": "0669c94c-fffe-4ed8-bf24-f8675eb00d8f"
      },
      "execution_count": 243,
      "outputs": [
        {
          "output_type": "stream",
          "name": "stdout",
          "text": [
            "Vocabulary size =  324\n"
          ]
        }
      ]
    },
    {
      "cell_type": "code",
      "source": [
        "vocab"
      ],
      "metadata": {
        "colab": {
          "base_uri": "https://localhost:8080/"
        },
        "id": "NTB2eHGwkYUO",
        "outputId": "986e2eef-c398-4026-c1f5-0e4f5d462666"
      },
      "execution_count": 244,
      "outputs": [
        {
          "output_type": "execute_result",
          "data": {
            "text/plain": [
              "{'<UNK>': 0,\n",
              " 'paris': 1,\n",
              " 'what': 2,\n",
              " 'is': 3,\n",
              " 'the': 4,\n",
              " 'capital': 5,\n",
              " 'of': 6,\n",
              " 'france': 7,\n",
              " 'berlin': 8,\n",
              " 'germany': 9,\n",
              " 'harper-lee': 10,\n",
              " 'who': 11,\n",
              " 'wrote': 12,\n",
              " 'to': 13,\n",
              " 'kill': 14,\n",
              " 'a': 15,\n",
              " 'mockingbird': 16,\n",
              " 'jupiter': 17,\n",
              " 'largest': 18,\n",
              " 'planet': 19,\n",
              " 'in': 20,\n",
              " 'our': 21,\n",
              " 'solar': 22,\n",
              " 'system': 23,\n",
              " '100': 24,\n",
              " 'boiling': 25,\n",
              " 'point': 26,\n",
              " 'water': 27,\n",
              " 'celsius': 28,\n",
              " 'leonardo-da-vinci': 29,\n",
              " 'painted': 30,\n",
              " 'mona': 31,\n",
              " 'lisa': 32,\n",
              " '8': 33,\n",
              " 'square': 34,\n",
              " 'root': 35,\n",
              " '64': 36,\n",
              " 'au': 37,\n",
              " 'chemical': 38,\n",
              " 'symbol': 39,\n",
              " 'for': 40,\n",
              " 'gold': 41,\n",
              " '1945': 42,\n",
              " 'which': 43,\n",
              " 'year': 44,\n",
              " 'did': 45,\n",
              " 'world': 46,\n",
              " 'war': 47,\n",
              " 'ii': 48,\n",
              " 'end': 49,\n",
              " 'nile': 50,\n",
              " 'longest': 51,\n",
              " 'river': 52,\n",
              " 'tokyo': 53,\n",
              " 'japan': 54,\n",
              " 'albert-einstein': 55,\n",
              " 'developed': 56,\n",
              " 'theory': 57,\n",
              " 'relativity': 58,\n",
              " '32': 59,\n",
              " 'freezing': 60,\n",
              " 'fahrenheit': 61,\n",
              " 'mars': 62,\n",
              " 'known': 63,\n",
              " 'as': 64,\n",
              " 'red': 65,\n",
              " 'george-orwell': 66,\n",
              " 'author': 67,\n",
              " '1984': 68,\n",
              " 'pound': 69,\n",
              " 'currency': 70,\n",
              " 'united': 71,\n",
              " 'kingdom': 72,\n",
              " 'delhi': 73,\n",
              " 'india': 74,\n",
              " 'newton': 75,\n",
              " 'discovered': 76,\n",
              " 'gravity': 77,\n",
              " '7': 78,\n",
              " 'how': 79,\n",
              " 'many': 80,\n",
              " 'continents': 81,\n",
              " 'are': 82,\n",
              " 'there': 83,\n",
              " 'on': 84,\n",
              " 'earth': 85,\n",
              " 'co2': 86,\n",
              " 'gas': 87,\n",
              " 'do': 88,\n",
              " 'plants': 89,\n",
              " 'use': 90,\n",
              " 'photosynthesis': 91,\n",
              " '2': 92,\n",
              " 'smallest': 93,\n",
              " 'prime': 94,\n",
              " 'number': 95,\n",
              " 'alexander-graham-bell': 96,\n",
              " 'invented': 97,\n",
              " 'telephone': 98,\n",
              " 'canberra': 99,\n",
              " 'australia': 100,\n",
              " 'pacific-ocean': 101,\n",
              " 'ocean': 102,\n",
              " '299,792,458m/s': 103,\n",
              " 'speed': 104,\n",
              " 'light': 105,\n",
              " 'vacuum': 106,\n",
              " 'portuguese': 107,\n",
              " 'language': 108,\n",
              " 'spoken': 109,\n",
              " 'brazil': 110,\n",
              " 'alexander-fleming': 111,\n",
              " 'penicillin': 112,\n",
              " 'ottawa': 113,\n",
              " 'canada': 114,\n",
              " 'whale': 115,\n",
              " 'mammal': 116,\n",
              " 'hydrogen': 117,\n",
              " 'element': 118,\n",
              " 'has': 119,\n",
              " 'atomic': 120,\n",
              " '1': 121,\n",
              " 'everest': 122,\n",
              " 'tallest': 123,\n",
              " 'mountain': 124,\n",
              " 'newyork': 125,\n",
              " 'city': 126,\n",
              " 'big': 127,\n",
              " 'apple': 128,\n",
              " 'planets': 129,\n",
              " 'vangogh': 130,\n",
              " 'starry': 131,\n",
              " 'night': 132,\n",
              " 'h2o': 133,\n",
              " 'formula': 134,\n",
              " 'rome': 135,\n",
              " 'italy': 136,\n",
              " 'country': 137,\n",
              " 'famous': 138,\n",
              " 'sushi': 139,\n",
              " 'armstrong': 140,\n",
              " 'was': 141,\n",
              " 'first': 142,\n",
              " 'person': 143,\n",
              " 'step': 144,\n",
              " 'moon': 145,\n",
              " 'avocado': 146,\n",
              " 'main': 147,\n",
              " 'ingredient': 148,\n",
              " 'guacamole': 149,\n",
              " '6': 150,\n",
              " 'sides': 151,\n",
              " 'does': 152,\n",
              " 'hexagon': 153,\n",
              " 'have': 154,\n",
              " 'yuan': 155,\n",
              " 'china': 156,\n",
              " 'jane-austen': 157,\n",
              " 'pride': 158,\n",
              " 'and': 159,\n",
              " 'prejudice': 160,\n",
              " 'fe': 161,\n",
              " 'iron': 162,\n",
              " 'diamond': 163,\n",
              " 'hardest': 164,\n",
              " 'natural': 165,\n",
              " 'substance': 166,\n",
              " 'asia': 167,\n",
              " 'continent': 168,\n",
              " 'by': 169,\n",
              " 'area': 170,\n",
              " 'george-washington': 171,\n",
              " 'president': 172,\n",
              " 'states': 173,\n",
              " 'parrot': 174,\n",
              " 'bird': 175,\n",
              " 'its': 176,\n",
              " 'ability': 177,\n",
              " 'mimic': 178,\n",
              " 'sounds': 179,\n",
              " 'simpsons': 180,\n",
              " 'longest-running': 181,\n",
              " 'animated': 182,\n",
              " 'tv': 183,\n",
              " 'show': 184,\n",
              " 'vaticancity': 185,\n",
              " 'saturn': 186,\n",
              " 'most': 187,\n",
              " 'moons': 188,\n",
              " 'shakespeare': 189,\n",
              " 'romeo': 190,\n",
              " 'juliet': 191,\n",
              " 'nitrogen': 192,\n",
              " 'earths': 193,\n",
              " 'atmosphere': 194,\n",
              " '206': 195,\n",
              " 'bones': 196,\n",
              " 'adult': 197,\n",
              " 'human': 198,\n",
              " 'body': 199,\n",
              " 'mercury': 200,\n",
              " 'metal': 201,\n",
              " 'liquid': 202,\n",
              " 'at': 203,\n",
              " 'room': 204,\n",
              " 'temperature': 205,\n",
              " 'moscow': 206,\n",
              " 'russia': 207,\n",
              " 'benjamin-franklin': 208,\n",
              " 'electricity': 209,\n",
              " 'second-largest': 210,\n",
              " 'land': 211,\n",
              " 'yellow': 212,\n",
              " 'color': 213,\n",
              " 'ripe': 214,\n",
              " 'banana': 215,\n",
              " 'february': 216,\n",
              " 'month': 217,\n",
              " '28': 218,\n",
              " 'days': 219,\n",
              " 'common': 220,\n",
              " 'biology': 221,\n",
              " 'study': 222,\n",
              " 'living': 223,\n",
              " 'organisms': 224,\n",
              " 'called': 225,\n",
              " 'home': 226,\n",
              " 'great': 227,\n",
              " 'wall': 228,\n",
              " 'nectar': 229,\n",
              " 'bees': 230,\n",
              " 'collect': 231,\n",
              " 'from': 232,\n",
              " 'flowers': 233,\n",
              " 'opposite': 234,\n",
              " 'day': 235,\n",
              " 'seoul': 236,\n",
              " 'south': 237,\n",
              " 'korea': 238,\n",
              " 'edison': 239,\n",
              " 'bulb': 240,\n",
              " 'oxygen': 241,\n",
              " 'humans': 242,\n",
              " 'breathe': 243,\n",
              " 'survival': 244,\n",
              " '12': 245,\n",
              " '144': 246,\n",
              " 'egypt': 247,\n",
              " 'pyramids': 248,\n",
              " 'giza': 249,\n",
              " 'octopus': 250,\n",
              " 'sea': 251,\n",
              " 'creature': 252,\n",
              " 'eight': 253,\n",
              " 'arms': 254,\n",
              " 'christmas': 255,\n",
              " 'holiday': 256,\n",
              " 'celebrated': 257,\n",
              " 'december': 258,\n",
              " '25': 259,\n",
              " 'yen': 260,\n",
              " 'legs': 261,\n",
              " 'spider': 262,\n",
              " 'basketball': 263,\n",
              " 'sport': 264,\n",
              " 'uses': 265,\n",
              " 'net,': 266,\n",
              " 'ball,': 267,\n",
              " 'hoop': 268,\n",
              " 'kangaroos': 269,\n",
              " 'margaretthatcher': 270,\n",
              " 'female': 271,\n",
              " 'minister': 272,\n",
              " 'uk': 273,\n",
              " 'cheetah': 274,\n",
              " 'fastest': 275,\n",
              " 'animal': 276,\n",
              " 'periodic': 277,\n",
              " 'table': 278,\n",
              " 'madrid': 279,\n",
              " 'spain': 280,\n",
              " 'closest': 281,\n",
              " 'sun': 282,\n",
              " 'charlesbabbage': 283,\n",
              " 'father': 284,\n",
              " 'computers': 285,\n",
              " 'mexicocity': 286,\n",
              " 'mexico': 287,\n",
              " 'colors': 288,\n",
              " 'rainbow': 289,\n",
              " 'piano': 290,\n",
              " 'musical': 291,\n",
              " 'instrument': 292,\n",
              " 'black': 293,\n",
              " 'white': 294,\n",
              " 'keys': 295,\n",
              " 'christophercolumbus': 296,\n",
              " 'americas': 297,\n",
              " '1492': 298,\n",
              " 'pinocchio': 299,\n",
              " 'disney': 300,\n",
              " 'character': 301,\n",
              " 'long': 302,\n",
              " 'nose': 303,\n",
              " 'grows': 304,\n",
              " 'it': 305,\n",
              " 'when': 306,\n",
              " 'lying': 307,\n",
              " 'jamescameron': 308,\n",
              " 'directed': 309,\n",
              " 'movie': 310,\n",
              " 'titanic': 311,\n",
              " 'batman': 312,\n",
              " 'superhero': 313,\n",
              " 'also': 314,\n",
              " 'dark': 315,\n",
              " 'knight': 316,\n",
              " 'brasilia': 317,\n",
              " 'mango': 318,\n",
              " 'fruit': 319,\n",
              " 'king': 320,\n",
              " 'fruits': 321,\n",
              " 'eiffel': 322,\n",
              " 'tower': 323}"
            ]
          },
          "metadata": {},
          "execution_count": 244
        }
      ]
    },
    {
      "cell_type": "code",
      "source": [
        "def TextToIndex(text, vocab):\n",
        "  idxes = []\n",
        "  for word in Tokenize(text):\n",
        "    if word in vocab:\n",
        "      idxes.append(vocab[word])\n",
        "    else:\n",
        "      idxes.append(vocab['<UNK>'])\n",
        "\n",
        "  return idxes"
      ],
      "metadata": {
        "id": "MekY_C4tlNcN"
      },
      "execution_count": 245,
      "outputs": []
    },
    {
      "cell_type": "code",
      "source": [
        "TextToIndex(\"What are you doing?\", vocab)"
      ],
      "metadata": {
        "colab": {
          "base_uri": "https://localhost:8080/"
        },
        "id": "yQdN3Zewomhl",
        "outputId": "fae10503-7a5b-44ca-95d1-63ed73e3522b"
      },
      "execution_count": 246,
      "outputs": [
        {
          "output_type": "execute_result",
          "data": {
            "text/plain": [
              "[2, 82, 0, 0]"
            ]
          },
          "metadata": {},
          "execution_count": 246
        }
      ]
    },
    {
      "cell_type": "code",
      "source": [
        "class CustomDataset(Dataset):\n",
        "  def __init__(self, df, vocab):\n",
        "    self.df = df\n",
        "    self.vocab = vocab\n",
        "\n",
        "  def __len__(self):\n",
        "    return self.df.shape[0]\n",
        "\n",
        "  def __getitem__(self, idx):\n",
        "    question = self.df.iloc[idx]['question']\n",
        "    answer = self.df.iloc[idx]['answer']\n",
        "\n",
        "    numerical_ques = TextToIndex(question, self.vocab)\n",
        "    numerical_ans = TextToIndex(answer, self.vocab)\n",
        "\n",
        "    return torch.tensor(numerical_ques), torch.tensor(numerical_ans)"
      ],
      "metadata": {
        "id": "oiluAhcborTs"
      },
      "execution_count": 247,
      "outputs": []
    },
    {
      "cell_type": "code",
      "source": [
        "data = CustomDataset(df, vocab)"
      ],
      "metadata": {
        "id": "dMwM0GDmrZPc"
      },
      "execution_count": 248,
      "outputs": []
    },
    {
      "cell_type": "code",
      "source": [
        "batch_size = 1\n",
        "train_loader = DataLoader(data, batch_size = batch_size, shuffle = True)"
      ],
      "metadata": {
        "id": "Y3BBqjsQrgyr"
      },
      "execution_count": 249,
      "outputs": []
    },
    {
      "cell_type": "code",
      "source": [
        "class RNNNetwork(nn.Module):\n",
        "  def __init__(self, vocab_size):\n",
        "    super(RNNNetwork, self).__init__()\n",
        "    self.embeddings = nn.Embedding(vocab_size, 50)\n",
        "    self.rnn1 = nn.RNN(50, 64, batch_first=True) # batch_first = True is important as by default rnn takes 2nd element in shape as batch_size\n",
        "    # which would result in output shape of (1, 6, 324) while we actually need (1, 1, 324)\n",
        "    self.rnn2 = nn.RNN(64, 32, batch_first=True)\n",
        "    self.fc = nn.Linear(32, vocab_size)\n",
        "\n",
        "  def forward(self, X):\n",
        "    x = self.embeddings(X)\n",
        "    hidden, _ = self.rnn1(x)\n",
        "    hidden, final = self.rnn2(hidden)\n",
        "    result = self.fc(final.squeeze(0))\n",
        "\n",
        "    return result"
      ],
      "metadata": {
        "id": "J0d7ylGItEAa"
      },
      "execution_count": 278,
      "outputs": []
    },
    {
      "cell_type": "code",
      "source": [
        "model = RNNNetwork(vocab_size=vocab_size)"
      ],
      "metadata": {
        "id": "zE0C9zn2zt7B"
      },
      "execution_count": 279,
      "outputs": []
    },
    {
      "cell_type": "code",
      "source": [
        "epoches = 50\n",
        "lr = 0.01"
      ],
      "metadata": {
        "id": "OYkq6GQ67DI7"
      },
      "execution_count": 280,
      "outputs": []
    },
    {
      "cell_type": "code",
      "source": [
        "loss_fn = nn.CrossEntropyLoss()\n",
        "optimizer = torch.optim.Adam(model.parameters(), lr = lr)"
      ],
      "metadata": {
        "id": "9yJlq0vh6uPL"
      },
      "execution_count": 281,
      "outputs": []
    },
    {
      "cell_type": "code",
      "source": [
        "ques, ans = next(iter(train_loader))"
      ],
      "metadata": {
        "id": "-iBeRoDf3dip"
      },
      "execution_count": 282,
      "outputs": []
    },
    {
      "cell_type": "code",
      "source": [
        "for epoch in range(epoches):\n",
        "  losses = []\n",
        "  total_loss = 0\n",
        "  for ques, ans in (train_loader):\n",
        "    y = model(ques)\n",
        "    loss = loss_fn(y, ans[0])\n",
        "    total_loss += loss.item()\n",
        "    optimizer.zero_grad()\n",
        "    loss.backward()\n",
        "    optimizer.step()\n",
        "  losses.append(total_loss/len(train_loader))\n",
        "  print(f\"For epoch {epoch} loss is = {total_loss/len(train_loader)}\")"
      ],
      "metadata": {
        "colab": {
          "base_uri": "https://localhost:8080/"
        },
        "id": "FAsmSfBl0qQp",
        "outputId": "c500f623-91b0-4c02-c846-a6fe19f92029"
      },
      "execution_count": 283,
      "outputs": [
        {
          "output_type": "stream",
          "name": "stdout",
          "text": [
            "For epoch 0 loss is = 6.055722533331977\n",
            "For epoch 1 loss is = 5.104307360119289\n",
            "For epoch 2 loss is = 4.527994441986084\n",
            "For epoch 3 loss is = 3.7568561183081735\n",
            "For epoch 4 loss is = 3.0363816605673897\n",
            "For epoch 5 loss is = 2.3815154559082456\n",
            "For epoch 6 loss is = 2.0227703785730733\n",
            "For epoch 7 loss is = 1.3425842677553494\n",
            "For epoch 8 loss is = 1.0798106542891925\n",
            "For epoch 9 loss is = 0.7939035400748253\n",
            "For epoch 10 loss is = 0.6001515850838688\n",
            "For epoch 11 loss is = 0.5237902238654594\n",
            "For epoch 12 loss is = 0.3624399169037739\n",
            "For epoch 13 loss is = 0.2601043551332421\n",
            "For epoch 14 loss is = 0.2889236038136813\n",
            "For epoch 15 loss is = 0.21791919148009684\n",
            "For epoch 16 loss is = 0.1445754893331064\n",
            "For epoch 17 loss is = 0.1153852140944865\n",
            "For epoch 18 loss is = 0.1297211481879155\n",
            "For epoch 19 loss is = 0.10257399565436774\n",
            "For epoch 20 loss is = 0.10855210337580906\n",
            "For epoch 21 loss is = 0.1079491542548769\n",
            "For epoch 22 loss is = 0.054477929970663454\n",
            "For epoch 23 loss is = 0.05477425753552881\n",
            "For epoch 24 loss is = 0.027323150914162396\n",
            "For epoch 25 loss is = 0.024832907143152422\n",
            "For epoch 26 loss is = 0.021251051624615987\n",
            "For epoch 27 loss is = 0.018594433118899665\n",
            "For epoch 28 loss is = 0.01705804464096824\n",
            "For epoch 29 loss is = 0.0157186241975675\n",
            "For epoch 30 loss is = 0.014637553288290897\n",
            "For epoch 31 loss is = 0.013594078940028946\n",
            "For epoch 32 loss is = 0.012570670699804193\n",
            "For epoch 33 loss is = 0.011595729156397283\n",
            "For epoch 34 loss is = 0.010821755189034674\n",
            "For epoch 35 loss is = 0.010063600979952349\n",
            "For epoch 36 loss is = 0.009323660682679879\n",
            "For epoch 37 loss is = 0.008703744910760886\n",
            "For epoch 38 loss is = 0.00818013836008807\n",
            "For epoch 39 loss is = 0.0077099559518198175\n",
            "For epoch 40 loss is = 0.007228883534359435\n",
            "For epoch 41 loss is = 0.006791168052910103\n",
            "For epoch 42 loss is = 0.00639206674726059\n",
            "For epoch 43 loss is = 0.006041048961277638\n",
            "For epoch 44 loss is = 0.005679043413450321\n",
            "For epoch 45 loss is = 0.005380365630197856\n",
            "For epoch 46 loss is = 0.005078750443903522\n",
            "For epoch 47 loss is = 0.004822794346707977\n",
            "For epoch 48 loss is = 0.004557980119716376\n",
            "For epoch 49 loss is = 0.004315674043674436\n"
          ]
        }
      ]
    },
    {
      "cell_type": "code",
      "source": [
        "def predict(model, ques, vocab, threshold = 0.5):\n",
        "  numerical_ques = torch.tensor(TextToIndex(ques, vocab)).unsqueeze(0)\n",
        "  y = model(numerical_ques)\n",
        "  y_cap = F.softmax(y, dim = 1)\n",
        "  prob, idx = torch.max(y_cap, dim = 1)\n",
        "\n",
        "  if prob.item() >= threshold:\n",
        "    print(list(vocab.keys())[idx])\n",
        "  else:\n",
        "    print(\"I don't know\")"
      ],
      "metadata": {
        "id": "KkfT08Og9nwT"
      },
      "execution_count": 284,
      "outputs": []
    },
    {
      "cell_type": "code",
      "source": [
        "print(df['question'][3])\n",
        "predict(model, df['question'][3], vocab)"
      ],
      "metadata": {
        "colab": {
          "base_uri": "https://localhost:8080/"
        },
        "id": "lu3dmnSGFr3b",
        "outputId": "e4807b99-4744-4747-ac9a-901300075348"
      },
      "execution_count": 285,
      "outputs": [
        {
          "output_type": "stream",
          "name": "stdout",
          "text": [
            "What is the largest planet in our solar system?\n",
            "jupiter\n"
          ]
        }
      ]
    },
    {
      "cell_type": "code",
      "source": [
        "print(df['question'][4])\n",
        "predict(model, df['question'][4], vocab)"
      ],
      "metadata": {
        "colab": {
          "base_uri": "https://localhost:8080/"
        },
        "id": "GkrRAGQMFv-7",
        "outputId": "9b0263eb-ea7b-48fe-8ca5-50bff60d1b02"
      },
      "execution_count": 286,
      "outputs": [
        {
          "output_type": "stream",
          "name": "stdout",
          "text": [
            "What is the boiling point of water in Celsius?\n",
            "100\n"
          ]
        }
      ]
    },
    {
      "cell_type": "code",
      "source": [
        "print(df['question'][6])\n",
        "predict(model, df['question'][6], vocab)"
      ],
      "metadata": {
        "colab": {
          "base_uri": "https://localhost:8080/"
        },
        "id": "UiPKCczaGbuM",
        "outputId": "db414e21-2dc3-439c-f129-e17583ec2329"
      },
      "execution_count": 287,
      "outputs": [
        {
          "output_type": "stream",
          "name": "stdout",
          "text": [
            "What is the square root of 64?\n",
            "8\n"
          ]
        }
      ]
    },
    {
      "cell_type": "code",
      "source": [],
      "metadata": {
        "id": "qkRhRcrNIMKc"
      },
      "execution_count": 268,
      "outputs": []
    },
    {
      "cell_type": "code",
      "source": [],
      "metadata": {
        "id": "Ofdhz1DrIMsD"
      },
      "execution_count": null,
      "outputs": []
    }
  ]
}