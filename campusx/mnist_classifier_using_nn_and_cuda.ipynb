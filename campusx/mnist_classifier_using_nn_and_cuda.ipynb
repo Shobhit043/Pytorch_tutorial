{
  "cells": [
    {
      "cell_type": "code",
      "execution_count": null,
      "metadata": {
        "colab": {
          "base_uri": "https://localhost:8080/"
        },
        "id": "bqmNgksT1Van",
        "outputId": "e71b5313-2b8d-4266-e860-3d2e64a0dc23"
      },
      "outputs": [
        {
          "name": "stdout",
          "output_type": "stream",
          "text": [
            "2.6.0+cu124\n"
          ]
        }
      ],
      "source": [
        "import pandas as pd\n",
        "import numpy as np\n",
        "from sklearn.model_selection import train_test_split\n",
        "import matplotlib.pyplot as plt\n",
        "from sklearn.metrics import accuracy_score\n",
        "\n",
        "import torch\n",
        "import torch.nn as nn\n",
        "import torch.nn.functional as F\n",
        "import torchvision\n",
        "from torchvision.transforms import transforms\n",
        "from torch.utils.data import DataLoader\n",
        "from torchsummary import summary\n",
        "print(torch.__version__)"
      ]
    },
    {
      "cell_type": "code",
      "execution_count": null,
      "metadata": {
        "colab": {
          "base_uri": "https://localhost:8080/"
        },
        "id": "EX_qRaf7gksE",
        "outputId": "da5e7d9f-d5da-418a-8816-0e55218eee81"
      },
      "outputs": [
        {
          "name": "stdout",
          "output_type": "stream",
          "text": [
            "Current Device =  cuda\n"
          ]
        }
      ],
      "source": [
        "batch_size = 12\n",
        "epoches = 15\n",
        "device = torch.device('cuda' if torch.cuda.is_available() else 'cpu')\n",
        "print(\"Current Device = \",device)"
      ]
    },
    {
      "cell_type": "code",
      "execution_count": null,
      "metadata": {
        "id": "LAjtfczD_QVM"
      },
      "outputs": [],
      "source": [
        "transforms = transforms.Compose([\n",
        "    transforms.ToTensor()\n",
        "])"
      ]
    },
    {
      "cell_type": "code",
      "execution_count": null,
      "metadata": {
        "id": "MADqG7zC8LoD"
      },
      "outputs": [],
      "source": [
        "training_data = torchvision.datasets.MNIST(root = './data', train = True, download = True, transform=transforms)\n",
        "validation_data = torchvision.datasets.MNIST(root = './data', train = False, download = True, transform=transforms)"
      ]
    },
    {
      "cell_type": "code",
      "execution_count": null,
      "metadata": {
        "id": "Ccepr7ilDVdZ"
      },
      "outputs": [],
      "source": [
        "training_loader = DataLoader(dataset = training_data, batch_size = batch_size, shuffle=True)\n",
        "validation_loader = DataLoader(dataset = validation_data, batch_size = batch_size, shuffle=True)"
      ]
    },
    {
      "cell_type": "code",
      "execution_count": null,
      "metadata": {
        "colab": {
          "base_uri": "https://localhost:8080/"
        },
        "id": "_e2QespoHCTS",
        "outputId": "ec0ba721-ae0b-49eb-e3e3-d995ea82369b"
      },
      "outputs": [
        {
          "name": "stdout",
          "output_type": "stream",
          "text": [
            "Traning Dataset Size =  5000\n",
            "Validation Dataset Size =  834\n"
          ]
        }
      ],
      "source": [
        "print(\"Traning Dataset Size = \", len(training_loader))\n",
        "print(\"Validation Dataset Size = \", len(validation_loader))"
      ]
    },
    {
      "cell_type": "code",
      "execution_count": null,
      "metadata": {
        "id": "YlXo5TArHXCw"
      },
      "outputs": [],
      "source": [
        "dataiter = iter(training_loader)\n",
        "images, labels = next(dataiter)"
      ]
    },
    {
      "cell_type": "code",
      "execution_count": null,
      "metadata": {
        "colab": {
          "base_uri": "https://localhost:8080/"
        },
        "id": "5zwOr5BrPpOj",
        "outputId": "39585c81-5e15-4639-d36e-edd074773a7f"
      },
      "outputs": [
        {
          "data": {
            "text/plain": [
              "torch.Size([12, 1, 28, 28])"
            ]
          },
          "execution_count": 158,
          "metadata": {},
          "output_type": "execute_result"
        }
      ],
      "source": [
        "images.shape"
      ]
    },
    {
      "cell_type": "markdown",
      "metadata": {
        "id": "PurHbbBUV5Rp"
      },
      "source": [
        "9 images with shape 1 channel, 28px height, 28px width"
      ]
    },
    {
      "cell_type": "code",
      "execution_count": null,
      "metadata": {
        "colab": {
          "base_uri": "https://localhost:8080/",
          "height": 511
        },
        "id": "e33ucRMgOrnD",
        "outputId": "69b9e187-f0f5-48a0-cedd-049d3ec568ba"
      },
      "outputs": [
        {
          "data": {
            "image/png": "[encoded data removed]",
            "text/plain": [
              "<Figure size 640x480 with 9 Axes>"
            ]
          },
          "metadata": {},
          "output_type": "display_data"
        }
      ],
      "source": [
        "npimgs = [np.transpose(images[j].numpy(),(1,2,0)) for j in range(0,9)]\n",
        "\n",
        "num_img_along_ax = 3\n",
        "fig, ax = plt.subplots(nrows = num_img_along_ax,ncols = num_img_along_ax)\n",
        "\n",
        "for idx, (img, label) in enumerate(zip(npimgs, labels)):\n",
        "    row = idx // num_img_along_ax\n",
        "    col = idx % num_img_along_ax\n",
        "\n",
        "    ax[row][col].imshow(img, cmap='gray')\n",
        "    ax[row][col].set_title(str(label.item()))\n",
        "    ax[row][col].axis('off')\n",
        "\n",
        "plt.tight_layout()\n",
        "plt.suptitle(\"Sample Images\", y = 1.02)\n",
        "plt.show()"
      ]
    },
    {
      "cell_type": "code",
      "execution_count": null,
      "metadata": {
        "id": "5ybwQsgpNx4r"
      },
      "outputs": [],
      "source": [
        "import torch\n",
        "import torch.nn as nn\n",
        "\n",
        "class NeuralNetwork(nn.Module):\n",
        "    def __init__(self, inp_shape=784):\n",
        "        super().__init__()\n",
        "        self.Network = nn.Sequential(\n",
        "            nn.Linear(inp_shape, 256),\n",
        "            nn.ReLU(),\n",
        "            nn.Dropout(0.25),\n",
        "            nn.Linear(256, 128),\n",
        "            nn.ReLU(),\n",
        "            nn.Dropout(0.25),\n",
        "            nn.Linear(128, 10)  # 10 classes for MNIST\n",
        "            # the loss function itself calculates the softmax, so we just pass in the logits\n",
        "        )\n",
        "\n",
        "    def forward(self, X):\n",
        "        X = X.view(X.size(0), -1)  # Flatten (batch_size, 784)\n",
        "        return self.Network(X)"
      ]
    },
    {
      "cell_type": "code",
      "execution_count": null,
      "metadata": {
        "id": "JbIeXiHAfzT9"
      },
      "outputs": [],
      "source": [
        "model = NeuralNetwork(784)"
      ]
    },
    {
      "cell_type": "code",
      "execution_count": null,
      "metadata": {
        "colab": {
          "base_uri": "https://localhost:8080/"
        },
        "id": "EM-vMUSoieRe",
        "outputId": "ad260e4d-3de9-4426-d194-1a646967bad7"
      },
      "outputs": [
        {
          "data": {
            "text/plain": [
              "NeuralNetwork(\n",
              "  (Network): Sequential(\n",
              "    (0): Linear(in_features=784, out_features=256, bias=True)\n",
              "    (1): ReLU()\n",
              "    (2): Dropout(p=0.25, inplace=False)\n",
              "    (3): Linear(in_features=256, out_features=128, bias=True)\n",
              "    (4): ReLU()\n",
              "    (5): Dropout(p=0.25, inplace=False)\n",
              "    (6): Linear(in_features=128, out_features=10, bias=True)\n",
              "  )\n",
              ")"
            ]
          },
          "execution_count": 162,
          "metadata": {},
          "output_type": "execute_result"
        }
      ],
      "source": [
        "model.to(device)"
      ]
    },
    {
      "cell_type": "code",
      "execution_count": null,
      "metadata": {
        "id": "LB03IP1YhAHi"
      },
      "outputs": [],
      "source": [
        "loss_fn = torch.nn.CrossEntropyLoss()\n",
        "optimizer = torch.optim.SGD(model.parameters(), lr=0.001, momentum=0.9)\n",
        "num_of_batches = int((len(training_loader)/batch_size)+(len(training_loader)%batch_size))"
      ]
    },
    {
      "cell_type": "code",
      "execution_count": null,
      "metadata": {
        "colab": {
          "base_uri": "https://localhost:8080/"
        },
        "id": "XSFUT_7Azw3t",
        "outputId": "7dc0a2d0-914d-4116-a0a3-85e6072e5b4e"
      },
      "outputs": [
        {
          "data": {
            "text/plain": [
              "424"
            ]
          },
          "execution_count": 164,
          "metadata": {},
          "output_type": "execute_result"
        }
      ],
      "source": [
        "num_of_batches"
      ]
    },
    {
      "cell_type": "code",
      "execution_count": null,
      "metadata": {
        "colab": {
          "base_uri": "https://localhost:8080/"
        },
        "id": "z61uMgq1j2Xq",
        "outputId": "93ddd2ca-de4c-43cb-8b27-8bdec7832b04"
      },
      "outputs": [
        {
          "name": "stdout",
          "output_type": "stream",
          "text": [
            "For epoch no. 1 average loss = 8.874200327128595\n",
            "For epoch no. 2 average loss = 3.5671884138202996\n",
            "For epoch no. 3 average loss = 2.655004640935727\n",
            "For epoch no. 4 average loss = 2.119505742380839\n",
            "For epoch no. 5 average loss = 1.7706632390258645\n",
            "For epoch no. 6 average loss = 1.5619405544121894\n",
            "For epoch no. 7 average loss = 1.3918891913950264\n",
            "For epoch no. 8 average loss = 1.2493761965619479\n",
            "For epoch no. 9 average loss = 1.1440855613744236\n",
            "For epoch no. 10 average loss = 1.0455864000700186\n",
            "For epoch no. 11 average loss = 0.9660291337792652\n",
            "For epoch no. 12 average loss = 0.9266824632576796\n",
            "For epoch no. 13 average loss = 0.8355872790060566\n",
            "For epoch no. 14 average loss = 0.7783592080362174\n",
            "For epoch no. 15 average loss = 0.7606589926212761\n"
          ]
        }
      ],
      "source": [
        "Loss_per_batch = []\n",
        "Accuracy_per_batch = []\n",
        "\n",
        "for i in range(epoches):\n",
        "  TotalLoss = 0\n",
        "  TotalAccuracy = 0\n",
        "  for batch, (X,y) in enumerate(training_loader):\n",
        "\n",
        "    X, y = X.to(device), y.to(device)\n",
        "\n",
        "    logits = model(X)\n",
        "\n",
        "    loss = loss_fn(logits, y) # we just need to pass logits the loss function as it applies softmax itself\n",
        "\n",
        "    y_pred = torch.argmax(F.softmax(logits,dim = 1),dim = 1) # calculating this for training accuracy\n",
        "\n",
        "    optimizer.zero_grad()\n",
        "\n",
        "    loss.backward()\n",
        "\n",
        "    optimizer.step()\n",
        "\n",
        "    TotalLoss += loss.item()\n",
        "    TotalAccuracy += (accuracy_score(y.cpu(),y_pred.cpu()))\n",
        "\n",
        "  print(f\"For epoch no. {i+1} average loss = {TotalLoss/num_of_batches}\")\n",
        "\n",
        "  Loss_per_batch.append(TotalLoss/num_of_batches)\n",
        "  Accuracy_per_batch.append((TotalAccuracy/num_of_batches))"
      ]
    },
    {
      "cell_type": "code",
      "execution_count": null,
      "metadata": {
        "colab": {
          "base_uri": "https://localhost:8080/",
          "height": 468
        },
        "id": "_W-6zFztq5ZM",
        "outputId": "c9dc5260-3fa6-4402-e90d-0ed7ad8ebcd8"
      },
      "outputs": [
        {
          "data": {
            "image/png": "[encoded data removed]",
            "text/plain": [
              "<Figure size 1500x500 with 2 Axes>"
            ]
          },
          "metadata": {},
          "output_type": "display_data"
        }
      ],
      "source": [
        "fig, (ax1, ax2) = plt.subplots(nrows = 1, ncols = 2, figsize = (15,5))\n",
        "ax1.plot(range(0,epoches),Loss_per_batch)\n",
        "ax1.set_title(\"Training Loss\")\n",
        "ax2.plot(range(0,epoches),Accuracy_per_batch)\n",
        "ax2.set_title(\"Training Accuracy\")\n",
        "plt.show()"
      ]
    },
    {
      "cell_type": "code",
      "execution_count": null,
      "metadata": {
        "colab": {
          "base_uri": "https://localhost:8080/"
        },
        "id": "cAO0pY5sqrtH",
        "outputId": "0af536fe-f333-475b-9fc1-979d1d96f090"
      },
      "outputs": [
        {
          "name": "stdout",
          "output_type": "stream",
          "text": [
            "average validation loss = 2.071874663924539\n",
            "average accuracy loss = 0.9798161470823326\n"
          ]
        }
      ],
      "source": [
        "ValLoss = 0\n",
        "TotalAccuracy = 0\n",
        "num_of_val_batches = len(validation_loader)/batch_size + len(validation_loader)%batch_size\n",
        "for batch, (X,y) in enumerate(validation_loader):\n",
        "  model.eval()\n",
        "  X, y = X.to(device), y.to(device)\n",
        "  with torch.no_grad():\n",
        "    logits = model(X)\n",
        "    probs = F.softmax(logits,1)\n",
        "    preds = torch.argmax(probs,1)\n",
        "\n",
        "    ValLoss += loss.item()\n",
        "    TotalAccuracy += accuracy_score(y.cpu(), preds.cpu())\n",
        "print(f\"average validation loss = {ValLoss/num_of_val_batches}\")\n",
        "print(f\"average accuracy loss = {TotalAccuracy/len(validation_loader)}\")"
      ]
    },
    {
      "cell_type": "code",
      "execution_count": null,
      "metadata": {
        "id": "Pq9W7gk3K1kJ"
      },
      "outputs": [],
      "source": [
        "def make_prediction(img):\n",
        "  model.eval()\n",
        "  with torch.no_grad():\n",
        "    logits = model(img)\n",
        "    probs = F.softmax(logits,1)\n",
        "    preds = torch.argmax(probs,1)\n",
        "    return preds.item()"
      ]
    },
    {
      "cell_type": "code",
      "execution_count": null,
      "metadata": {
        "colab": {
          "base_uri": "https://localhost:8080/",
          "height": 511
        },
        "id": "QGJmHo2Fv0Ge",
        "outputId": "90d911ce-78a8-4672-ed42-c673476a44ce"
      },
      "outputs": [
        {
          "data": {
            "image/png": "[encoded data removed]",
            "text/plain": [
              "<Figure size 640x480 with 9 Axes>"
            ]
          },
          "metadata": {},
          "output_type": "display_data"
        }
      ],
      "source": [
        "num_img_along_ax = 3\n",
        "fig, ax = plt.subplots(nrows = num_img_along_ax,ncols = num_img_along_ax)\n",
        "\n",
        "for idx, img in enumerate(images[:9]):\n",
        "    row = idx // num_img_along_ax\n",
        "    col = idx % num_img_along_ax\n",
        "\n",
        "    ax[row][col].imshow(np.transpose(img.numpy(),(1,2,0)), cmap='gray')\n",
        "    ax[row][col].set_title(str(make_prediction(img.to(device))))\n",
        "    ax[row][col].axis('off')\n",
        "\n",
        "plt.tight_layout()\n",
        "plt.suptitle('Predictions',y = 1.02)\n",
        "plt.show()"
      ]
    },
    {
      "cell_type": "code",
      "execution_count": null,
      "metadata": {
        "id": "49Q5a-1nMlHR"
      },
      "outputs": [],
      "source": []
    }
  ],
  "metadata": {
    "accelerator": "GPU",
    "colab": {
      "gpuType": "T4",
      "provenance": []
    },
    "kernelspec": {
      "display_name": "Python 3",
      "name": "python3"
    },
    "language_info": {
      "name": "python"
    }
  },
  "nbformat": 4,
  "nbformat_minor": 0
}
