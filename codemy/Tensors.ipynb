{
  "nbformat": 4,
  "nbformat_minor": 0,
  "metadata": {
    "colab": {
      "provenance": [],
      "authorship_tag": "ABX9TyOqEPry3G6bUR8G+vOpnY87",
      "include_colab_link": true
    },
    "kernelspec": {
      "name": "python3",
      "display_name": "Python 3"
    },
    "language_info": {
      "name": "python"
    }
  },
  "cells": [
    {
      "cell_type": "markdown",
      "metadata": {
        "id": "view-in-github",
        "colab_type": "text"
      },
      "source": [
        "<a href=\"https://colab.research.google.com/github/Shobhit043/pytorch_tutorial/blob/main/Tensors.ipynb\" target=\"_parent\"><img src=\"https://colab.research.google.com/assets/colab-badge.svg\" alt=\"Open In Colab\"/></a>"
      ]
    },
    {
      "cell_type": "code",
      "execution_count": 1,
      "metadata": {
        "id": "cOE9ncnMX3px"
      },
      "outputs": [],
      "source": [
        "import torch\n",
        "import numpy as np"
      ]
    },
    {
      "cell_type": "code",
      "source": [
        "# List\n",
        "my_list_1d = [1,2,3,4]\n",
        "my_list_2d = [[1,2,3,4],[5,6,7,8]]\n",
        "\n",
        "print(my_list_1d)\n",
        "print(my_list_2d)"
      ],
      "metadata": {
        "colab": {
          "base_uri": "https://localhost:8080/"
        },
        "id": "Cb5o0gNSZw4N",
        "outputId": "7cb79964-8bce-4670-8157-69a2b6ea0382"
      },
      "execution_count": 3,
      "outputs": [
        {
          "output_type": "stream",
          "name": "stdout",
          "text": [
            "[1, 2, 3, 4]\n",
            "[[1, 2, 3, 4], [5, 6, 7, 8]]\n"
          ]
        }
      ]
    },
    {
      "cell_type": "code",
      "source": [
        "# numpy arrays\n",
        "my_array_1d = np.random.rand(4)\n",
        "my_array_2d = np.random.rand(2,4)\n",
        "\n",
        "print(my_array_1d)\n",
        "print(my_array_2d)"
      ],
      "metadata": {
        "colab": {
          "base_uri": "https://localhost:8080/"
        },
        "id": "4MLk35_dZ_C1",
        "outputId": "3a2ce716-f7cb-4fef-b1f0-e94993bff150"
      },
      "execution_count": 5,
      "outputs": [
        {
          "output_type": "stream",
          "name": "stdout",
          "text": [
            "[0.8971661  0.71368719 0.96343376 0.63824134]\n",
            "[[0.11458085 0.60059894 0.81499856 0.29849728]\n",
            " [0.14108323 0.93972538 0.31896777 0.01566467]]\n"
          ]
        }
      ]
    },
    {
      "cell_type": "code",
      "source": [
        "my_array_1d.dtype"
      ],
      "metadata": {
        "colab": {
          "base_uri": "https://localhost:8080/"
        },
        "id": "Y7jTl0LGaRC0",
        "outputId": "9ed60116-611e-434e-de9f-002d59b60c9a"
      },
      "execution_count": 6,
      "outputs": [
        {
          "output_type": "execute_result",
          "data": {
            "text/plain": [
              "dtype('float64')"
            ]
          },
          "metadata": {},
          "execution_count": 6
        }
      ]
    },
    {
      "cell_type": "markdown",
      "source": [
        "defualt type of numpy arrays is float64"
      ],
      "metadata": {
        "id": "ftwZgUXhaZek"
      }
    },
    {
      "cell_type": "code",
      "source": [
        "# Tensors\n",
        "my_tensor_1d = torch.randn(4)\n",
        "my_tensor_2d = torch.randn(3,4)\n",
        "\n",
        "print(my_tensor_1d)\n",
        "print(my_tensor_2d)"
      ],
      "metadata": {
        "colab": {
          "base_uri": "https://localhost:8080/"
        },
        "id": "iBzX3OCGaYKz",
        "outputId": "5169126a-4623-41dc-d216-b74b04cae730"
      },
      "execution_count": 17,
      "outputs": [
        {
          "output_type": "stream",
          "name": "stdout",
          "text": [
            "tensor([0.1824, 0.5718, 0.7956, 0.3517])\n",
            "tensor([[ 0.9507,  1.9796, -0.5829, -0.3277],\n",
            "        [-0.1093,  0.1304, -1.2399, -0.1324],\n",
            "        [-1.4981, -1.0393, -0.0373, -0.8842]])\n"
          ]
        }
      ]
    },
    {
      "cell_type": "code",
      "source": [
        "my_tensor_1d.dtype"
      ],
      "metadata": {
        "colab": {
          "base_uri": "https://localhost:8080/"
        },
        "id": "IldkvXDVbMF8",
        "outputId": "249e026c-4acf-407a-f6b3-b1f49c76d60e"
      },
      "execution_count": 18,
      "outputs": [
        {
          "output_type": "execute_result",
          "data": {
            "text/plain": [
              "torch.float32"
            ]
          },
          "metadata": {},
          "execution_count": 18
        }
      ]
    },
    {
      "cell_type": "markdown",
      "source": [
        "default type of tensor is float32"
      ],
      "metadata": {
        "id": "ZGdhD5dPbgpz"
      }
    },
    {
      "cell_type": "code",
      "source": [
        "my_tensor_from_array = torch.tensor(my_array_1d)\n",
        "print(my_tensor_from_array)"
      ],
      "metadata": {
        "colab": {
          "base_uri": "https://localhost:8080/"
        },
        "id": "HQaEYGiebfoj",
        "outputId": "655dbb63-ad72-4feb-e392-97a63b77ff11"
      },
      "execution_count": 19,
      "outputs": [
        {
          "output_type": "stream",
          "name": "stdout",
          "text": [
            "tensor([0.8972, 0.7137, 0.9634, 0.6382], dtype=torch.float64)\n"
          ]
        }
      ]
    },
    {
      "cell_type": "markdown",
      "source": [
        "converting array to tensor"
      ],
      "metadata": {
        "id": "4ct3MH--b9OD"
      }
    },
    {
      "cell_type": "code",
      "source": [
        "print(my_tensor_2d[2,2])"
      ],
      "metadata": {
        "colab": {
          "base_uri": "https://localhost:8080/"
        },
        "id": "4e6vvf-ab1w8",
        "outputId": "d3677138-1988-4dd4-ef74-a67009862f62"
      },
      "execution_count": 20,
      "outputs": [
        {
          "output_type": "stream",
          "name": "stdout",
          "text": [
            "tensor(-0.0373)\n"
          ]
        }
      ]
    },
    {
      "cell_type": "markdown",
      "source": [
        "Using python slicing to access elements of the tensor just like normal arrays"
      ],
      "metadata": {
        "id": "cy04n2IMcJm7"
      }
    },
    {
      "cell_type": "code",
      "source": [
        "x = torch.tensor([[1]])\n",
        "x.item()"
      ],
      "metadata": {
        "colab": {
          "base_uri": "https://localhost:8080/"
        },
        "id": "eQ0Qq7TrcCfc",
        "outputId": "e6eb5988-f369-492c-94e9-1fd9fe51eb2f"
      },
      "execution_count": 22,
      "outputs": [
        {
          "output_type": "execute_result",
          "data": {
            "text/plain": [
              "1"
            ]
          },
          "metadata": {},
          "execution_count": 22
        }
      ]
    },
    {
      "cell_type": "markdown",
      "source": [
        "Use torch.Tensor.item() to get a Python number from a tensor containing a single value:"
      ],
      "metadata": {
        "id": "-g2sLrHkcUnL"
      }
    },
    {
      "cell_type": "code",
      "source": [],
      "metadata": {
        "id": "B2Ls4Z3AcU8r"
      },
      "execution_count": null,
      "outputs": []
    }
  ]
}