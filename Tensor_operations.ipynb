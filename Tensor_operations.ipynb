{
  "nbformat": 4,
  "nbformat_minor": 0,
  "metadata": {
    "colab": {
      "provenance": [],
      "authorship_tag": "ABX9TyNDlCVTcVL/aYRb7Dxo/ih2",
      "include_colab_link": true
    },
    "kernelspec": {
      "name": "python3",
      "display_name": "Python 3"
    },
    "language_info": {
      "name": "python"
    }
  },
  "cells": [
    {
      "cell_type": "markdown",
      "metadata": {
        "id": "view-in-github",
        "colab_type": "text"
      },
      "source": [
        "<a href=\"https://colab.research.google.com/github/Shobhit043/pytorch_tutorial/blob/main/Tensor_operations.ipynb\" target=\"_parent\"><img src=\"https://colab.research.google.com/assets/colab-badge.svg\" alt=\"Open In Colab\"/></a>"
      ]
    },
    {
      "cell_type": "code",
      "execution_count": 1,
      "metadata": {
        "id": "OcazCdqad_ms"
      },
      "outputs": [],
      "source": [
        "import torch"
      ]
    },
    {
      "cell_type": "code",
      "source": [
        "my_tensor = torch.arange(10)\n",
        "my_tensor"
      ],
      "metadata": {
        "colab": {
          "base_uri": "https://localhost:8080/"
        },
        "id": "Ah8Dw0xZgOhG",
        "outputId": "86abad60-cc98-41ec-a5b3-2d3df744068f"
      },
      "execution_count": 33,
      "outputs": [
        {
          "output_type": "execute_result",
          "data": {
            "text/plain": [
              "tensor([0, 1, 2, 3, 4, 5, 6, 7, 8, 9])"
            ]
          },
          "metadata": {},
          "execution_count": 33
        }
      ]
    },
    {
      "cell_type": "markdown",
      "source": [
        "# Reshape"
      ],
      "metadata": {
        "id": "xYMDsDpmigYk"
      }
    },
    {
      "cell_type": "code",
      "source": [
        "my_tensor_reshape = my_tensor.reshape(2,5)\n",
        "print(my_tensor_reshape)"
      ],
      "metadata": {
        "colab": {
          "base_uri": "https://localhost:8080/"
        },
        "id": "vrr4EPh7hLYs",
        "outputId": "712da4c2-cd6c-402f-f5e1-ace302ebcc0b"
      },
      "execution_count": 34,
      "outputs": [
        {
          "output_type": "stream",
          "name": "stdout",
          "text": [
            "tensor([[0, 1, 2, 3, 4],\n",
            "        [5, 6, 7, 8, 9]])\n"
          ]
        }
      ]
    },
    {
      "cell_type": "code",
      "source": [
        "# Reshape can work with non-contiguous arrays\n",
        "data = torch.tensor([[1, 2, 3, 4], [5, 6, 7, 8]])\n",
        "reshaped_data = torch.reshape(data, (4, 2))\n",
        "print(reshaped_data)"
      ],
      "metadata": {
        "colab": {
          "base_uri": "https://localhost:8080/"
        },
        "id": "Ep5oRmHLiPlM",
        "outputId": "5e04aceb-0a34-4a59-90fc-9a67a6240519"
      },
      "execution_count": 35,
      "outputs": [
        {
          "output_type": "stream",
          "name": "stdout",
          "text": [
            "tensor([[1, 2],\n",
            "        [3, 4],\n",
            "        [5, 6],\n",
            "        [7, 8]])\n"
          ]
        }
      ]
    },
    {
      "cell_type": "markdown",
      "source": [
        "# View"
      ],
      "metadata": {
        "id": "IwDTjm-bievk"
      }
    },
    {
      "cell_type": "code",
      "source": [
        "my_tensor_view = my_tensor.view(2,5)\n",
        "print(my_tensor_reshape)"
      ],
      "metadata": {
        "colab": {
          "base_uri": "https://localhost:8080/"
        },
        "id": "oWSMexeBheHs",
        "outputId": "ae18a7fa-e20e-4fd8-879d-bf91bfb05a06"
      },
      "execution_count": 36,
      "outputs": [
        {
          "output_type": "stream",
          "name": "stdout",
          "text": [
            "tensor([[0, 1, 2, 3, 4],\n",
            "        [5, 6, 7, 8, 9]])\n"
          ]
        }
      ]
    },
    {
      "cell_type": "code",
      "source": [
        "# View only works with contiguous arrays\n",
        "x = torch.randn(2, 4, 8)\n",
        "z = x[:, ::2]\n",
        "try:\n",
        "    z.view(-1)\n",
        "except RuntimeError as e:\n",
        "    print(e)"
      ],
      "metadata": {
        "colab": {
          "base_uri": "https://localhost:8080/"
        },
        "id": "fZnB8EU1htHF",
        "outputId": "6f67b5b5-996b-4733-f59d-d127009f6d9a"
      },
      "execution_count": 37,
      "outputs": [
        {
          "output_type": "stream",
          "name": "stdout",
          "text": [
            "view size is not compatible with input tensor's size and stride (at least one dimension spans across two contiguous subspaces). Use .reshape(...) instead.\n"
          ]
        }
      ]
    },
    {
      "cell_type": "markdown",
      "source": [
        "### Both view and reshape will get updated if original tensor is updated\n"
      ],
      "metadata": {
        "id": "5T0joGxCjBRL"
      }
    },
    {
      "cell_type": "code",
      "source": [
        "my_tensor[0] = 1317\n",
        "my_tensor"
      ],
      "metadata": {
        "colab": {
          "base_uri": "https://localhost:8080/"
        },
        "id": "UPzJj9jei6mz",
        "outputId": "053bb054-8716-4721-bdd9-222ac9bf311b"
      },
      "execution_count": 38,
      "outputs": [
        {
          "output_type": "execute_result",
          "data": {
            "text/plain": [
              "tensor([1317,    1,    2,    3,    4,    5,    6,    7,    8,    9])"
            ]
          },
          "metadata": {},
          "execution_count": 38
        }
      ]
    },
    {
      "cell_type": "code",
      "source": [
        "print(my_tensor_reshape)"
      ],
      "metadata": {
        "colab": {
          "base_uri": "https://localhost:8080/"
        },
        "id": "RbpWIoPpjgJj",
        "outputId": "deaaa935-a274-41d5-85d3-f7dcdee42b53"
      },
      "execution_count": 39,
      "outputs": [
        {
          "output_type": "stream",
          "name": "stdout",
          "text": [
            "tensor([[1317,    1,    2,    3,    4],\n",
            "        [   5,    6,    7,    8,    9]])\n"
          ]
        }
      ]
    },
    {
      "cell_type": "code",
      "source": [
        "print(my_tensor_view)"
      ],
      "metadata": {
        "colab": {
          "base_uri": "https://localhost:8080/"
        },
        "id": "X3vUhVvvjcwM",
        "outputId": "1154e58a-0663-4d90-c849-14c1d8a11a49"
      },
      "execution_count": 40,
      "outputs": [
        {
          "output_type": "stream",
          "name": "stdout",
          "text": [
            "tensor([[1317,    1,    2,    3,    4],\n",
            "        [   5,    6,    7,    8,    9]])\n"
          ]
        }
      ]
    },
    {
      "cell_type": "markdown",
      "source": [
        "### To aviod this behaviour we can use .clone()"
      ],
      "metadata": {
        "id": "IVT4lwNOkg7t"
      }
    },
    {
      "cell_type": "code",
      "source": [
        "my_tensor_reshape_copy = my_tensor.reshape(2,5).clone()\n",
        "\n",
        "# again updating first value\n",
        "my_tensor[0] = 124\n",
        "\n",
        "# value still remain same in this tensor\n",
        "print(my_tensor_reshape_copy)"
      ],
      "metadata": {
        "colab": {
          "base_uri": "https://localhost:8080/"
        },
        "id": "pKepRZNFjj1k",
        "outputId": "1f14afac-6226-402b-da3d-69cd81d25289"
      },
      "execution_count": 41,
      "outputs": [
        {
          "output_type": "stream",
          "name": "stdout",
          "text": [
            "tensor([[1317,    1,    2,    3,    4],\n",
            "        [   5,    6,    7,    8,    9]])\n"
          ]
        }
      ]
    },
    {
      "cell_type": "code",
      "source": [
        "# for more info\n",
        "# https://www.geeksforgeeks.org/whats-the-difference-between-reshape-and-view-in-pytorch/"
      ],
      "metadata": {
        "id": "LQRMZ3pPiNYk"
      },
      "execution_count": 12,
      "outputs": []
    },
    {
      "cell_type": "markdown",
      "source": [
        "# Slicing"
      ],
      "metadata": {
        "id": "PfYbodyYiw0U"
      }
    },
    {
      "cell_type": "code",
      "source": [
        "my_tensor = torch.arange(15.)\n",
        "my_tensor"
      ],
      "metadata": {
        "colab": {
          "base_uri": "https://localhost:8080/"
        },
        "id": "BeKZaZVoirQc",
        "outputId": "fb2a4753-9767-4d98-ddc0-5bdc3a280d31"
      },
      "execution_count": 43,
      "outputs": [
        {
          "output_type": "execute_result",
          "data": {
            "text/plain": [
              "tensor([ 0.,  1.,  2.,  3.,  4.,  5.,  6.,  7.,  8.,  9., 10., 11., 12., 13.,\n",
              "        14.])"
            ]
          },
          "metadata": {},
          "execution_count": 43
        }
      ]
    },
    {
      "cell_type": "code",
      "source": [
        "my_torch_reshape = my_tensor.reshape(3,5)\n",
        "my_torch_reshape"
      ],
      "metadata": {
        "colab": {
          "base_uri": "https://localhost:8080/"
        },
        "id": "vB_n1slBktzc",
        "outputId": "7505cdc0-c840-4e87-e92e-1dc06b65b6d7"
      },
      "execution_count": 46,
      "outputs": [
        {
          "output_type": "execute_result",
          "data": {
            "text/plain": [
              "tensor([[ 0.,  1.,  2.,  3.,  4.],\n",
              "        [ 5.,  6.,  7.,  8.,  9.],\n",
              "        [10., 11., 12., 13., 14.]])"
            ]
          },
          "metadata": {},
          "execution_count": 46
        }
      ]
    },
    {
      "cell_type": "code",
      "source": [
        "my_torch_reshape[1:2,1:3]"
      ],
      "metadata": {
        "colab": {
          "base_uri": "https://localhost:8080/"
        },
        "id": "RTwo8uWLk1rU",
        "outputId": "5c24818d-cfcc-4ae2-fdf2-c2ea17db2424"
      },
      "execution_count": 49,
      "outputs": [
        {
          "output_type": "execute_result",
          "data": {
            "text/plain": [
              "tensor([[6., 7.]])"
            ]
          },
          "metadata": {},
          "execution_count": 49
        }
      ]
    },
    {
      "cell_type": "code",
      "source": [],
      "metadata": {
        "id": "UaOBD5yIlDes"
      },
      "execution_count": null,
      "outputs": []
    }
  ]
}